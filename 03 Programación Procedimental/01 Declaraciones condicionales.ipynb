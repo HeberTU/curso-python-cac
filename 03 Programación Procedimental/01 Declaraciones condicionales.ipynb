{
 "cells": [
  {
   "cell_type": "markdown",
   "metadata": {},
   "source": [
    "# Declaraciones condicionales\n",
    "\n",
    "Los objetivos de aprendizaje son:\n",
    "\n",
    "1. Introducción al comando `if`\n",
    "2. Los comandos `else` y `elif`\n",
    "3. Expresiones condicionales.\n",
    "4. Boolean Cast\n",
    "\n",
    "\n",
    "## Introducción al comando `if`\n",
    "\n",
    "Hasta ahora, hemos explorado ejecuciones secuenciales donde las sentencias se ejecutan una tras otra. Sin embargo, a menudo es necesario omitir o elegir entre conjuntos de instrucciones. Aquí es donde el comando `if` resulta útil.\n",
    "\n",
    "El `if` permite a la computadora ejecutar acciones basadas en la verificación de una condición. Por ejemplo:\n",
    "\n",
    "\n",
    "```` python\n",
    "if <expression>:\n",
    "    <statement>\n",
    "\n",
    "````\n",
    "\n",
    "Donde:\n",
    "\n",
    "- `expression`: Es una expresión evaluada en un contexto booleano, i.e. Falso o Verdadero\n",
    "- `statement`: Código Python que debe estar indentado, tal y como lo vimos antes.\n",
    "    \n",
    "\n"
   ]
  },
  {
   "cell_type": "code",
   "execution_count": null,
   "metadata": {},
   "outputs": [],
   "source": [
    "x = 0\n",
    "y = 5\n",
    "\n",
    "if x < y:\n",
    "    print(\"x es menor que y\")\n",
    "    print(\"------\")\n",
    "print(\"Otra cosa\")"
   ]
  },
  {
   "cell_type": "markdown",
   "metadata": {},
   "source": [
    "El comando `if` también acepta los operadores lógicos que revisamos antes"
   ]
  },
  {
   "cell_type": "code",
   "execution_count": null,
   "metadata": {},
   "outputs": [],
   "source": [
    "x = 1\n",
    "y = 2\n",
    "z = 3\n",
    "\n",
    "if (x<y) and (x<z):\n",
    "    print(\"(x<y) Y (x<z)\")\n",
    "    \n",
    "if (x<y) or (x>z):\n",
    "    print(\"(x<y) O (x<z)\")"
   ]
  },
  {
   "cell_type": "markdown",
   "metadata": {},
   "source": [
    "## Los comandos `else` y `elif`\n",
    "\n",
    "Además del comando `if`, es útil saber cómo manejar situaciones alternativas. Cuando una condición es falsa, podemos especificar una acción diferente usando else. La estructura es:\n",
    "\n",
    "```` python\n",
    "if <expression>:\n",
    "    <statement 1>\n",
    "else:\n",
    "    <statement 2>\n",
    "\n",
    "<statement 3>\n",
    "````\n",
    "\n",
    "\n",
    "Veamos un ejemplo:"
   ]
  },
  {
   "cell_type": "code",
   "execution_count": null,
   "metadata": {},
   "outputs": [],
   "source": [
    "x = 3\n",
    "\n",
    "if x <= 5:\n",
    "    print(\"statement 1\")\n",
    "else:\n",
    "    print(\"statement 2\")\n",
    "\n",
    "print(\"statement 3\")"
   ]
  },
  {
   "cell_type": "markdown",
   "metadata": {},
   "source": [
    "Podemos combinar lo anterior con estructuras de datos más complejas"
   ]
  },
  {
   "cell_type": "code",
   "execution_count": null,
   "metadata": {},
   "outputs": [],
   "source": [
    "d = {'a': 1, 'b': 2}\n",
    "key = \"c\"\n",
    "\n",
    "if key in d.keys():\n",
    "    valor = d[key]\n",
    "    print(valor)\n",
    "else:\n",
    "    print(f\"No existe la llave {key} en el diccionario\")\n"
   ]
  },
  {
   "cell_type": "markdown",
   "metadata": {},
   "source": [
    "> **Nota**: abusar de la cláusula `if` puede ser poco elegante. En muchos casos, puede haber una forma más *Pythonic* de lograr lo mismo.\n",
    "\n",
    "Aquí hay una posible alternativa usando el método dict.get():"
   ]
  },
  {
   "cell_type": "code",
   "execution_count": null,
   "metadata": {},
   "outputs": [],
   "source": [
    "print(d.get(key, f\"No existe la llave {key} en el diccionario\"))"
   ]
  },
  {
   "cell_type": "markdown",
   "metadata": {},
   "source": [
    "> **Nota**: las instrucciones `if`, `elif` y `else` se evalúan en formato short-circuit, i.e Si una de las expresiones es verdadera y se ejecuta su bloque, no se prueba ninguna de las expresiones restantes."
   ]
  },
  {
   "cell_type": "code",
   "execution_count": null,
   "metadata": {},
   "outputs": [],
   "source": [
    "x = True\n",
    "\n",
    "if x:\n",
    "    print(\"Hola\")\n",
    "else:\n",
    "    1/0\n",
    "    print(\"error\")"
   ]
  },
  {
   "cell_type": "markdown",
   "metadata": {},
   "source": [
    "En Python está permitido escribir un enunciado if completo en una sola línea. A primera vista puede ser confuso, pero es un patrón válido y se usa recurrentemente."
   ]
  },
  {
   "cell_type": "code",
   "execution_count": null,
   "metadata": {},
   "outputs": [],
   "source": [
    "if \"h\" in \"hola\": print(\"One-Line\") "
   ]
  },
  {
   "cell_type": "markdown",
   "metadata": {},
   "source": [
    "## Expresiones condicionales\n",
    "\n",
    "Las expresiones condicionales se propusieron en el PEP (python enhancement proposal) 308. Y pese a ser muy similres a un comando `if` y `else` son diferentes porque no son una estructura de control que dirige el flujo de ejecución del programa. Actúan más como un operador que define una expresión.\n",
    "\n",
    "```` python\n",
    "<value1> if <expr> else <value2>\n",
    "````\n",
    "\n"
   ]
  },
  {
   "cell_type": "code",
   "execution_count": null,
   "metadata": {},
   "outputs": [],
   "source": [
    "llueve = True\n",
    "\n",
    "print(\"Vamos a la ->\", \"Casa\" if llueve else 'Parque')"
   ]
  },
  {
   "cell_type": "markdown",
   "metadata": {},
   "source": [
    "Un uso común de la expresión condicional es para asignar un valor a una variable. \n"
   ]
  },
  {
   "cell_type": "code",
   "execution_count": null,
   "metadata": {},
   "outputs": [],
   "source": [
    "a=10\n",
    "b=5\n",
    "\n",
    "if a>b:\n",
    "    max_val = a\n",
    "else:\n",
    "    max_val = b\n",
    "    \n",
    "print(max_val)"
   ]
  },
  {
   "cell_type": "code",
   "execution_count": null,
   "metadata": {},
   "outputs": [],
   "source": [
    "max_val = a if a>b else b\n",
    "print(max_val)"
   ]
  },
  {
   "cell_type": "code",
   "execution_count": null,
   "metadata": {},
   "outputs": [],
   "source": [
    "a = \"----\"\n",
    "config = a if a else \"parametro_default\" \n",
    "config"
   ]
  },
  {
   "cell_type": "markdown",
   "metadata": {},
   "source": [
    "## Boolean Cast\n",
    "\n",
    "Al momento de evaluar una expresión Python que no sea directamente `True` o `False`Python convertirá la expresión a un tipo de dato booleano.\n"
   ]
  },
  {
   "cell_type": "code",
   "execution_count": null,
   "metadata": {},
   "outputs": [],
   "source": [
    "a = \"Hola\"\n",
    "if a:\n",
    "    print(\"VERDADERO\")\n",
    "else:\n",
    "    print(\"FALSO\")"
   ]
  },
  {
   "cell_type": "code",
   "execution_count": null,
   "metadata": {},
   "outputs": [],
   "source": [
    "b = 0\n",
    "if b:\n",
    "    print(\"VERDADERO\")\n",
    "else:\n",
    "    print(\"FALSO\")"
   ]
  },
  {
   "cell_type": "code",
   "execution_count": null,
   "metadata": {},
   "outputs": [],
   "source": [
    "c = 3\n",
    "if c:\n",
    "    print(\"VERDADERO\")\n",
    "else:\n",
    "    print(\"FALSO\")"
   ]
  },
  {
   "cell_type": "code",
   "execution_count": null,
   "metadata": {},
   "outputs": [],
   "source": [
    "d = None\n",
    "if d:\n",
    "    print(\"VERDADERO\")\n",
    "else:\n",
    "    print(\"FALSO\")"
   ]
  },
  {
   "cell_type": "code",
   "execution_count": null,
   "metadata": {},
   "outputs": [],
   "source": [
    "e = True\n",
    "if e:\n",
    "    print(\"VERDADERO\")\n",
    "else:\n",
    "    print(\"FALSO\")"
   ]
  },
  {
   "cell_type": "code",
   "execution_count": null,
   "metadata": {},
   "outputs": [],
   "source": [
    "f = 1.2\n",
    "if f:\n",
    "    print(\"VERDADERO\")\n",
    "else:\n",
    "    print(\"FALSO\")"
   ]
  },
  {
   "cell_type": "code",
   "execution_count": null,
   "metadata": {},
   "outputs": [],
   "source": [
    "g = 0.2\n",
    "if g:\n",
    "    print(\"VERDADERO\")\n",
    "else:\n",
    "    print(\"FALSO\")"
   ]
  },
  {
   "cell_type": "code",
   "execution_count": null,
   "metadata": {},
   "outputs": [],
   "source": [
    "h = -2.1\n",
    "if h:\n",
    "    print(\"VERDADERO\")\n",
    "else:\n",
    "    print(\"FALSO\")"
   ]
  },
  {
   "cell_type": "code",
   "execution_count": null,
   "metadata": {},
   "outputs": [],
   "source": [
    "if True:\n",
    "    print(\"VERDADERO\")\n",
    "else:\n",
    "    print(\"FALSO\")"
   ]
  }
 ],
 "metadata": {
  "kernelspec": {
   "display_name": "Python 3 (ipykernel)",
   "language": "python",
   "name": "python3"
  },
  "language_info": {
   "codemirror_mode": {
    "name": "ipython",
    "version": 3
   },
   "file_extension": ".py",
   "mimetype": "text/x-python",
   "name": "python",
   "nbconvert_exporter": "python",
   "pygments_lexer": "ipython3",
   "version": "3.13.7"
  }
 },
 "nbformat": 4,
 "nbformat_minor": 4
}
