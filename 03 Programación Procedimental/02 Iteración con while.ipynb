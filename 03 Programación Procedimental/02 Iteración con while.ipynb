{
 "cells": [
  {
   "cell_type": "markdown",
   "metadata": {},
   "source": [
    "# Iteración con while\n",
    "\n",
    "Los objetivos de aprendizaje son:\n",
    "\n",
    "1. Definición Iteración\n",
    "2. Bucle `while`\n",
    "3. Comandos `break` y `continue`\n",
    "4. Cláusula `else`\n",
    "5. Input\n",
    "\n",
    "## Definición Iteración\n",
    "\n",
    "Iteración significa ejecutar el mismo bloque de código una y otra vez. Una estructura de programación que implementa la iteración se denomina bucle.\n",
    "\n",
    "En programación, hay dos tipos de iteraciones:\n",
    "\n",
    "- **Indefinida**: la cantidad de veces que se ejecuta el ciclo no se especifica explícitamente de antemano. Más bien, el bloque designado se ejecuta repetidamente siempre que se cumpla alguna condición.\n",
    "\n",
    "- **Definida**: el número de veces que se ejecutará el bloque designado se especifica explícitamente en el momento en que comienza el ciclo.\n",
    "\n",
    "## Bucle `while`\n",
    "\n",
    "\n",
    "El formato de un bucle while rudimentario es:\n",
    "\n",
    "```` python\n",
    "while <expr>:\n",
    "    <statement(s)>\n",
    "````\n",
    "            \n",
    "Donde:\n",
    "\n",
    "- **expr**: Es la expresión de control.\n",
    "- **statement(s)**: Representa el bloque que se ejecutará repetidamente, a menudo denominado cuerpo del bucle.\n",
    "\n",
    "\n",
    "Cuando se encuentra un bucle `while` sucede lo siguiente:\n",
    "\n",
    "1. `expr` se evalúa en el contexto booleano. Si es verdadero, se ejecuta el cuerpo del ciclo. \n",
    "2. `expr` se verifica nuevamente y, si aún es verdadera, el cuerpo se ejecuta nuevamente. Esto continúa hasta que `expr` se vuelve `False`\n",
    "    \n",
    "Ahora veremos un ejemplo:"
   ]
  },
  {
   "cell_type": "code",
   "execution_count": null,
   "metadata": {},
   "outputs": [],
   "source": [
    "x = 0\n",
    "\n",
    "while x<3:\n",
    "    print(f\"El valor de x es {x}\")\n",
    "    x += 1"
   ]
  },
  {
   "cell_type": "code",
   "execution_count": null,
   "metadata": {},
   "outputs": [],
   "source": [
    "x = 0\n",
    "\n",
    "while x<3:\n",
    "    print(\"El valor de x es {}\".format(x))\n",
    "    x += 1"
   ]
  },
  {
   "cell_type": "code",
   "execution_count": null,
   "metadata": {},
   "outputs": [],
   "source": [
    "lst = ['a', 'b', 'c']\n",
    "while lst:\n",
    "    print(lst.pop(-1))"
   ]
  },
  {
   "cell_type": "code",
   "execution_count": null,
   "metadata": {},
   "outputs": [],
   "source": [
    "lst"
   ]
  },
  {
   "cell_type": "markdown",
   "metadata": {},
   "source": [
    "# Comandos `break` y `continue`\n",
    "\n",
    "Python proporciona dos cláusulas que terminan prematuramente una iteración de bucle:\n",
    "\n",
    "- `break`: Finaliza inmediatamente un bucle por completo.\n",
    "- `continue`: Finaliza inmediatamente la iteración del bucle actual.\n",
    "\n",
    "## break"
   ]
  },
  {
   "cell_type": "code",
   "execution_count": null,
   "metadata": {},
   "outputs": [],
   "source": [
    "x = 0\n",
    "\n",
    "while x <=5:\n",
    "    \n",
    "    if x == 2:\n",
    "        print(\"Alto!\")\n",
    "        break\n",
    "    \n",
    "    print(\"El valor de x es: {}\".format(x))\n",
    "    x +=1"
   ]
  },
  {
   "cell_type": "markdown",
   "metadata": {},
   "source": [
    "También es posible inicializar un loop `while` con el valor por defecto en `True`. Dicha acción tendrá sentido siempre y cuando  bajo alguna condición dentro del cuerpo del loop exista un `break`."
   ]
  },
  {
   "cell_type": "code",
   "execution_count": null,
   "metadata": {},
   "outputs": [],
   "source": [
    "x = 0\n",
    "while True:\n",
    "    \n",
    "    if x == 5:\n",
    "        break    \n",
    "    print(\"El valore de x es: {}\".format(x))\n",
    "    x += 1"
   ]
  },
  {
   "cell_type": "markdown",
   "metadata": {},
   "source": [
    "## continue"
   ]
  },
  {
   "cell_type": "code",
   "execution_count": null,
   "metadata": {
    "scrolled": true
   },
   "outputs": [],
   "source": [
    "x = 0\n",
    "\n",
    "while x <=5:\n",
    "    \n",
    "    if x == 2:\n",
    "        \n",
    "        print(\"Woops!\")\n",
    "        x +=1\n",
    "        continue\n",
    "    \n",
    "    print(\"El valor de x es: {}\".format(x))\n",
    "    x +=1    \n"
   ]
  },
  {
   "cell_type": "markdown",
   "metadata": {},
   "source": [
    "## Cláusula `else`\n",
    "\n",
    "Python permite una cláusula else opcional al final de un ciclo while. Esta es una característica única de Python. La sintaxis se muestra a continuación:\n",
    "\n",
    "```` python\n",
    "while <expr>:\n",
    "    <statement(s)>\n",
    "else:\n",
    "    <additional_statement(s)>\n",
    "````\n"
   ]
  },
  {
   "cell_type": "code",
   "execution_count": null,
   "metadata": {},
   "outputs": [],
   "source": [
    "n = 5\n",
    "\n",
    "while n > 0:\n",
    "    n -= 1\n",
    "    print(n)\n",
    "else:\n",
    "    print(\"Bucle finalizado\")"
   ]
  },
  {
   "cell_type": "markdown",
   "metadata": {},
   "source": [
    "## Input\n",
    "\n",
    "La función `input()` genera una interfaz que nos permite recibir datos ingresados por el usuario. En algunas ocasiones podrán ver esta función acompañando al while loop."
   ]
  },
  {
   "cell_type": "code",
   "execution_count": null,
   "metadata": {},
   "outputs": [],
   "source": [
    "while True:\n",
    "    s = input(\"Escribe la palabra 'fin' para finalizar el loop: \")\n",
    "    if s == \"fin\":\n",
    "        print(\"Finalizando loop.\")\n",
    "        break\n"
   ]
  }
 ],
 "metadata": {
  "kernelspec": {
   "display_name": "Python 3 (ipykernel)",
   "language": "python",
   "name": "python3"
  },
  "language_info": {
   "codemirror_mode": {
    "name": "ipython",
    "version": 3
   },
   "file_extension": ".py",
   "mimetype": "text/x-python",
   "name": "python",
   "nbconvert_exporter": "python",
   "pygments_lexer": "ipython3",
   "version": "3.13.7"
  }
 },
 "nbformat": 4,
 "nbformat_minor": 4
}
