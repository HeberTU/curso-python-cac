{
 "cells": [
  {
   "cell_type": "markdown",
   "metadata": {},
   "source": [
    "# Loops: for\n",
    "\n",
    "Los objetivos de aprendizaje son:\n",
    "\n",
    "1. Bucle `for`.\n",
    "    - Iterables\n",
    "    - Iteradores\n",
    "2. Iteración en diccionarios\n",
    "3. Función `range()`\n",
    "4. Función `enumerate()`\n",
    "\n",
    "## Bucle `for`\n",
    "\n",
    "Python implementa una versión de `for` conocida como *collection-based iteration*. La forma básica es:\n",
    "\n",
    "````\n",
    "for i in <collection>\n",
    "    <loop body>\n",
    "````\n",
    "\n",
    "En cada iteración la variable `i` toma el valor del siguiente objeto en `collection` y se ejecuta el `loop body` asumiendo ese valor para `i`\n",
    "\n",
    "\n",
    "Veamos un ejemplo:\n"
   ]
  },
  {
   "cell_type": "code",
   "execution_count": null,
   "metadata": {},
   "outputs": [],
   "source": [
    "lst = [\"a\", \"b\", \"c\"]\n",
    "for item in lst:\n",
    "    print(item)"
   ]
  },
  {
   "cell_type": "markdown",
   "metadata": {},
   "source": [
    "En este ejemplo `collection` es una lista. \n",
    "\n",
    "### Iterables\n",
    "\n",
    "iterable significa que podemos recorrer de manera ordenada los elemeentos de un objeto.\n",
    "\n",
    "> Si un objeto es iterable, se puede pasar éste como argumento a la función iter(), que devuelve algo llamado iterador.\n",
    "\n",
    "\n",
    "Cada uno de los objetos del siguiente ejemplo es iterable y devuelve algún tipo de iterador cuando se pasa como parámetro a la función `iter()`:"
   ]
  },
  {
   "cell_type": "code",
   "execution_count": null,
   "metadata": {},
   "outputs": [],
   "source": [
    "print(\"Para las cadeas de texto:\",iter(\"hola\"))\n",
    "\n",
    "print(\"\\nPara las listas:\",iter([1, 2, 3]))\n",
    "\n",
    "print(\"\\nPara las tuplas:\",iter((1, 2, 3)))\n",
    "\n",
    "print(\"\\nPara los sets:\",iter({1, 2, 3}))\n",
    "\n",
    "print(\"\\nPara los diccionarios:\",iter({1: 1, 2: 2, 3: 3}))"
   ]
  },
  {
   "cell_type": "markdown",
   "metadata": {},
   "source": [
    "Si lo hacemos con una clase inválida obtendremos un error"
   ]
  },
  {
   "cell_type": "code",
   "execution_count": null,
   "metadata": {},
   "outputs": [],
   "source": [
    "iter(1)"
   ]
  },
  {
   "cell_type": "markdown",
   "metadata": {},
   "source": [
    "### Iterators\n",
    "\n",
    "Un iterador es un productor de valores, los valores se obtienen del objeto asociado al iterador, e.g. una lista. \n",
    "\n",
    "La función *pre-instalada* `next()` se usa para obtener el siguiente valor del iterador."
   ]
  },
  {
   "cell_type": "code",
   "execution_count": null,
   "metadata": {},
   "outputs": [],
   "source": [
    "lst = [\"a\", \"b\", \"c\"]\n",
    "\n",
    "itr = iter(lst)\n",
    "\n",
    "print(next(itr))\n",
    "print(next(itr))\n",
    "print(next(itr))"
   ]
  },
  {
   "cell_type": "markdown",
   "metadata": {},
   "source": [
    ">**Nota**: Un iterador conserva su estado internamente. Sabe qué valores ya se han obtenido, por lo que cuando se usa `next()`, sabe qué valor devolver a continuación.\n",
    "\n",
    "¿Qué sucede cuando el iterador se queda sin valores? Hagamos una llamada más de la función `next()` sobre el iterador anterior:"
   ]
  },
  {
   "cell_type": "code",
   "execution_count": null,
   "metadata": {},
   "outputs": [],
   "source": [
    "next(itr)"
   ]
  },
  {
   "cell_type": "markdown",
   "metadata": {},
   "source": [
    "Si ya se han devuelto todos los valores de un iterador, usar la función `next()` genera una excepción `StopIteration`. Solo puede obtener valores de un iterador en una dirección. No puedes retroceder."
   ]
  },
  {
   "cell_type": "markdown",
   "metadata": {},
   "source": [
    "### Cadenas de Texto\n",
    "\n",
    "Dado que los `strings` son iterables podremos usarlos dentro de `for`:"
   ]
  },
  {
   "cell_type": "code",
   "execution_count": null,
   "metadata": {},
   "outputs": [],
   "source": [
    "for letra in \"hola\":\n",
    "    print(letra.upper(),\"-->\")\n",
    "    "
   ]
  },
  {
   "cell_type": "markdown",
   "metadata": {},
   "source": [
    "## Iteración en diccionarios\n",
    "\n",
    "Ya vimos que se puede obtener un iterador de un diccionario con `iter()`. ¿Qué sucede cuando iteramos sobre un diccionario?"
   ]
  },
  {
   "cell_type": "code",
   "execution_count": null,
   "metadata": {},
   "outputs": [],
   "source": [
    "d = {\"k1\":\"v1\",\"k2\":\"v2\",\"k3\":\"v3\"}"
   ]
  },
  {
   "cell_type": "code",
   "execution_count": null,
   "metadata": {},
   "outputs": [],
   "source": [
    "# Iteramos sobre las llaves\n",
    "for i in d:\n",
    "    print(i)"
   ]
  },
  {
   "cell_type": "markdown",
   "metadata": {},
   "source": [
    "Por defecto iteramos sobre las llaves del diccionario. Si queremos iterar sobre los valores existen otras alternativas."
   ]
  },
  {
   "cell_type": "code",
   "execution_count": null,
   "metadata": {},
   "outputs": [],
   "source": [
    "# Iteramos sobre las llaves\n",
    "for key in d:\n",
    "    print(d[key])"
   ]
  },
  {
   "cell_type": "code",
   "execution_count": null,
   "metadata": {},
   "outputs": [],
   "source": [
    "for value in d.values():\n",
    "    print(value)"
   ]
  },
  {
   "cell_type": "markdown",
   "metadata": {},
   "source": [
    "También podemos ser explícitos para iterar sobre las llaves de un diccionario"
   ]
  },
  {
   "cell_type": "code",
   "execution_count": null,
   "metadata": {},
   "outputs": [],
   "source": [
    "for key in d.keys():\n",
    "    print(key)"
   ]
  },
  {
   "cell_type": "markdown",
   "metadata": {},
   "source": [
    "Y el método `items()` nos permite iterar sobre ambos al mismo tiempo."
   ]
  },
  {
   "cell_type": "code",
   "execution_count": null,
   "metadata": {},
   "outputs": [],
   "source": [
    "for item in d.items():\n",
    "    print(item)"
   ]
  },
  {
   "cell_type": "code",
   "execution_count": null,
   "metadata": {},
   "outputs": [],
   "source": [
    "for item in d.items():\n",
    "    k = item[0]\n",
    "    v = item[1]\n",
    "    print(k)\n",
    "    print(v)"
   ]
  },
  {
   "cell_type": "code",
   "execution_count": null,
   "metadata": {},
   "outputs": [],
   "source": [
    "# iteramos sobre parejas de llaves y valores + tuple unpacking\n",
    "for k, v in d.items():\n",
    "    print(k)\n",
    "    print(v)"
   ]
  },
  {
   "cell_type": "markdown",
   "metadata": {},
   "source": [
    "## Función `range()`\n",
    "\n",
    "Si queremos iterar sobre un rando de valores numéricos no hace falta escribirlos todos, podemos generarlos mediante la función `range()`"
   ]
  },
  {
   "cell_type": "code",
   "execution_count": null,
   "metadata": {},
   "outputs": [],
   "source": [
    "range(3)"
   ]
  },
  {
   "cell_type": "code",
   "execution_count": null,
   "metadata": {},
   "outputs": [],
   "source": [
    "for i in range(1, 3):\n",
    "    print(i)"
   ]
  },
  {
   "cell_type": "code",
   "execution_count": null,
   "metadata": {},
   "outputs": [],
   "source": [
    "for i in range(0, 10, 2):\n",
    "    print(i)"
   ]
  },
  {
   "cell_type": "markdown",
   "metadata": {},
   "source": [
    "## Función `enumerate()`\n",
    "\n",
    "En ocasiones buscamos iterar sobre los elementos de una secuencia a la par que contabilizamos el número de elementos dentro de la secuencia, por ejemplo:"
   ]
  },
  {
   "cell_type": "code",
   "execution_count": null,
   "metadata": {},
   "outputs": [],
   "source": [
    "lst = [\"a\", \"b\", \"c\", \"d\", \"e\"]\n",
    "lst"
   ]
  },
  {
   "cell_type": "code",
   "execution_count": null,
   "metadata": {},
   "outputs": [],
   "source": [
    "i = 0\n",
    "for item in lst:\n",
    "    print(\"Elemento: {}, en posición: {} \".format(item, i))\n",
    "    i += 1"
   ]
  },
  {
   "cell_type": "markdown",
   "metadata": {},
   "source": [
    "En el caso anterior hemos tenido que llevar \"manualmente\" la enumeración del índice. Sin embargo, existe la función `enumerate()` en Python que nos permite hacer esto de un modo más limpio."
   ]
  },
  {
   "cell_type": "code",
   "execution_count": null,
   "metadata": {},
   "outputs": [],
   "source": [
    "for i, item in enumerate(lst):\n",
    "    print(\"Elemento: {}, en posición: {} \".format(item, i))"
   ]
  },
  {
   "cell_type": "code",
   "execution_count": null,
   "metadata": {},
   "outputs": [],
   "source": []
  }
 ],
 "metadata": {
  "kernelspec": {
   "display_name": "Python 3 (ipykernel)",
   "language": "python",
   "name": "python3"
  },
  "language_info": {
   "codemirror_mode": {
    "name": "ipython",
    "version": 3
   },
   "file_extension": ".py",
   "mimetype": "text/x-python",
   "name": "python",
   "nbconvert_exporter": "python",
   "pygments_lexer": "ipython3",
   "version": "3.13.7"
  }
 },
 "nbformat": 4,
 "nbformat_minor": 4
}
