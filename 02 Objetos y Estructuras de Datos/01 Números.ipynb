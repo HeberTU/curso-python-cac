{
 "cells": [
  {
   "cell_type": "markdown",
   "metadata": {},
   "source": [
    "# Números en Python\n",
    "\n",
    "\n",
    "Los objetivos de aprendizaje son:\n",
    "\n",
    "1. Tipos de números en Python,\n",
    "2. Aritmética básica,\n",
    "3. Asignación de objetos numéricos en Python.\n",
    "4. Consideraciones en el nombre de las variables.\n",
    "\n",
    "\n",
    "## Tipos de números en Python\n",
    "\n",
    "En Python existen:\n",
    "\n",
    "- **Enteros**: Números sin decimales positivos o negativos, e.g. 2, -1, etc.\n",
    "\n",
    "- **Punto flotante**: Núemro con decimales positivos o negativos, e.g. 1.0, -3.14\n",
    "\n",
    "\n",
    "\n",
    "## Aritmética Básica\n",
    "\n",
    "Los operadores son:\n",
    "\n",
    "<table>\n",
    "<tr>\n",
    "    <th>Operador</th> \n",
    "    <th>Símbolo en Python</th>\n",
    "</tr>\n",
    "\n",
    "<tr>\n",
    "    <td>Suma</td>\n",
    "    <td>+</td> \n",
    "</tr>\n",
    "<tr>\n",
    "    <td>Resta</td>\n",
    "    <td>-</td> \n",
    "</tr>\n",
    "<tr>\n",
    "    <td>Multiplicación</td>\n",
    "    <td>*</td> \n",
    "</tr>\n",
    "<tr>\n",
    "    <td>División</td>\n",
    "    <td>/</td> \n",
    "</tr>\n",
    "<tr>\n",
    "    <td>División Entera</td>\n",
    "    <td>//</td> \n",
    "</tr>\n",
    "\n",
    "\n",
    " </table>\n"
   ]
  },
  {
   "cell_type": "code",
   "execution_count": null,
   "metadata": {},
   "outputs": [],
   "source": [
    "# Suma\n",
    "\n",
    "5 + 7"
   ]
  },
  {
   "cell_type": "code",
   "execution_count": null,
   "metadata": {},
   "outputs": [],
   "source": [
    "# Resta \n",
    "\n",
    "5-7"
   ]
  },
  {
   "cell_type": "code",
   "execution_count": null,
   "metadata": {},
   "outputs": [],
   "source": [
    "# Multiplicación \n",
    "\n",
    "2*3"
   ]
  },
  {
   "cell_type": "code",
   "execution_count": null,
   "metadata": {},
   "outputs": [],
   "source": [
    "# División \n",
    "\n",
    "3/4"
   ]
  },
  {
   "cell_type": "code",
   "execution_count": null,
   "metadata": {},
   "outputs": [],
   "source": [
    "# División Entera \n",
    "\n",
    "10//3"
   ]
  },
  {
   "cell_type": "markdown",
   "metadata": {},
   "source": [
    "Existen otro operadores más *\"avanzados\"*:\n",
    "<table>\n",
    "<tr>\n",
    "    <th>Operador</th> \n",
    "    <th>Símbolo en Python</th>\n",
    "</tr>\n",
    "\n",
    "<tr>\n",
    "    <td>Módulo</td>\n",
    "    <td>%</td> \n",
    "</tr>\n",
    "<tr>\n",
    "    <td>Potencia / Raíz</td>\n",
    "    <td>**</td> \n",
    "</tr>   \n",
    "<tr>\n",
    "    <td>Paréntesis</td>\n",
    "    <td>()</td> \n",
    "</tr>\n",
    "    \n"
   ]
  },
  {
   "cell_type": "code",
   "execution_count": null,
   "metadata": {},
   "outputs": [],
   "source": [
    "# Módulo\n",
    "\n",
    "10 % 3"
   ]
  },
  {
   "cell_type": "code",
   "execution_count": null,
   "metadata": {},
   "outputs": [],
   "source": [
    "# Potencia\n",
    "\n",
    "2**3"
   ]
  },
  {
   "cell_type": "code",
   "execution_count": null,
   "metadata": {},
   "outputs": [],
   "source": [
    "# Raíz\n",
    "\n",
    "9 ** (1/2)"
   ]
  },
  {
   "cell_type": "code",
   "execution_count": null,
   "metadata": {},
   "outputs": [],
   "source": [
    "# Orden de operaciones\n",
    "\n",
    "2 + 5 * 5 +1"
   ]
  },
  {
   "cell_type": "code",
   "execution_count": null,
   "metadata": {},
   "outputs": [],
   "source": [
    "(2 + 5) * (5 + 1)"
   ]
  },
  {
   "cell_type": "code",
   "execution_count": null,
   "metadata": {},
   "outputs": [],
   "source": [
    "2**2*4"
   ]
  },
  {
   "cell_type": "code",
   "execution_count": null,
   "metadata": {},
   "outputs": [],
   "source": [
    "2**(2*4)"
   ]
  },
  {
   "cell_type": "code",
   "execution_count": null,
   "metadata": {},
   "outputs": [],
   "source": [
    "2**8"
   ]
  },
  {
   "cell_type": "markdown",
   "metadata": {},
   "source": [
    "## Asignación de variables\n",
    "\n",
    "El operador `=` asigna un valor a una variable, por ejemplo:"
   ]
  },
  {
   "cell_type": "code",
   "execution_count": null,
   "metadata": {},
   "outputs": [],
   "source": [
    "x = 5"
   ]
  },
  {
   "cell_type": "markdown",
   "metadata": {},
   "source": [
    "Al igual que con los valores numéricos, podemos realizar operaciones aritméticas con las variables."
   ]
  },
  {
   "cell_type": "code",
   "execution_count": null,
   "metadata": {},
   "outputs": [],
   "source": [
    "x + x"
   ]
  },
  {
   "cell_type": "markdown",
   "metadata": {},
   "source": [
    "Podemos actualizar los valores de las variables:"
   ]
  },
  {
   "cell_type": "code",
   "execution_count": null,
   "metadata": {},
   "outputs": [],
   "source": [
    "x = 10\n",
    "x"
   ]
  },
  {
   "cell_type": "markdown",
   "metadata": {},
   "source": [
    "> En realidad no estámos creando variables, estámos creando referencias entre objetos (números) y nombres de variables"
   ]
  },
  {
   "cell_type": "code",
   "execution_count": null,
   "metadata": {},
   "outputs": [],
   "source": [
    "id(5)"
   ]
  },
  {
   "cell_type": "code",
   "execution_count": null,
   "metadata": {},
   "outputs": [],
   "source": [
    "x = 5 \n",
    "id(x)"
   ]
  },
  {
   "cell_type": "code",
   "execution_count": null,
   "metadata": {},
   "outputs": [],
   "source": [
    "x = 10\n",
    "id(x)"
   ]
  },
  {
   "cell_type": "markdown",
   "metadata": {},
   "source": [
    "La variable `x` almacena una referencia que apunta a un slot en la memoria RAM."
   ]
  },
  {
   "cell_type": "code",
   "execution_count": null,
   "metadata": {},
   "outputs": [],
   "source": [
    "id(20)"
   ]
  },
  {
   "cell_type": "code",
   "execution_count": null,
   "metadata": {},
   "outputs": [],
   "source": [
    "x = x + x\n",
    "id(x)"
   ]
  },
  {
   "cell_type": "markdown",
   "metadata": {},
   "source": [
    "## Consideraciones en el nombre de las variables.\n",
    "\n",
    "Las reglas son:\n",
    "\n",
    "1. Los nombres no pueden iniciar con un caracter numérico.\n",
    "2. El nombre no puede contener espacios, es recomendable usar _ para separar palabras.\n",
    "3. No se pueden utilizar los siguintes símbolos :'\",<>/?|\\()!@#$%^&*~-+\n",
    "4. Se considera una buena práctica usar minúsculas (PEP8).\n",
    "5. Es mejor no usar nombres de sólo un caracter, y menos las letras 'l', 'O' ó 'I'.\n",
    "6. Evitar usar nombre de palabras reservadas en Python, tales como \"list\" o \"str\".\n",
    "\n",
    "[PEP 8](https://www.python.org/dev/peps/pep-0008/).\n",
    "\n",
    "\n",
    "Es mejor ser explícitos:"
   ]
  },
  {
   "cell_type": "code",
   "execution_count": null,
   "metadata": {},
   "outputs": [],
   "source": [
    "frecuencia = 0.15\n",
    "costo_medio = 300\n",
    "\n",
    "prima_riesgo = frecuencia * costo_medio\n",
    "print(prima_riesgo)"
   ]
  }
 ],
 "metadata": {
  "kernelspec": {
   "display_name": "Python 3 (ipykernel)",
   "language": "python",
   "name": "python3"
  },
  "language_info": {
   "codemirror_mode": {
    "name": "ipython",
    "version": 3
   },
   "file_extension": ".py",
   "mimetype": "text/x-python",
   "name": "python",
   "nbconvert_exporter": "python",
   "pygments_lexer": "ipython3",
   "version": "3.13.7"
  }
 },
 "nbformat": 4,
 "nbformat_minor": 4
}
