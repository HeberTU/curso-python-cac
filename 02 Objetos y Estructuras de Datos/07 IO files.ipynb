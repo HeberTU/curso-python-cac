{
 "cells": [
  {
   "cell_type": "markdown",
   "metadata": {
    "pycharm": {
     "name": "#%%\n"
    }
   },
   "source": [
    "# IO Files\n",
    "\n",
    "\n",
    "Los objetivos de aprendizaje son:\n",
    "\n",
    "1. ¿Qué es un archivo?\n",
    "    - Rutas de archivos\n",
    "2. Abrir y cerrar archivos en Python\n",
    "2. Escribir y leer archivos en Python\n",
    "\n",
    "\n",
    "## ¿Qué es un archivo?\n",
    "\n",
    "Un archivo es un conjunto de bytes que se utiliza para almacenar datos.\n",
    "\n",
    "Los archivos en la mayoría de sistemas tienen tres partes principales:\n",
    "\n",
    "- **Encabezado**: metadatos sobre el contenido del archivo (nombre de archivo, tamaño, tipo, etc.)\n",
    "- **Datos**: contenido del archivo.\n",
    "- **End of file (EOF)**: carácter especial que indica el final del archivo.\n",
    "\n",
    "### Rutas de archivos\n",
    "\n",
    "Cuando accedemos a un archivo en un sistema operativo, se requiere una ruta de archivo. **La ruta del archivo es una cadena de texto que representa la ubicación de un archivo**. Se divide en tres partes principales:\n",
    "\n",
    "- **Ruta de la carpeta**: la ubicación de la carpeta de archivos en el sistema de archivos, donde las carpetas subsiguientes están separadas por una barra diagonal / (Unix) o una barra diagonal inversa \\ (Windows).\n",
    "- **Nombre de archivo**: el nombre del archivo.\n",
    "- **Extensión**: Es el texto posterior al punto (.), es utilizado para indicar el tipo de archivo \n",
    "\n",
    "Ejemplo windows\n",
    "\n",
    "````\n",
    "\"C:\\Users\\lucai\\ejemplo.txt\"\n",
    "\n",
    "````\n",
    "\n",
    "Ejemplo Unix\n",
    "\n",
    "````\n",
    "\"/home/lucai/ejemplo.txt\"\n",
    "\n",
    "````\n",
    "\n",
    "### Codificaciones de caracteres\n",
    "\n",
    "La codificación es una traducción de bytes a caracteres legibles por humanos. \n",
    "\n",
    "\n",
    "Por ejemplo:\n",
    "\n",
    "````\n",
    "a => 1\n",
    "b => 2\n",
    "c => 3\n",
    "...\n",
    "````\n",
    "\n",
    "Las dos codificaciones más comunes son los formatos [ASCII](https://www.ascii-code.com/) y [UTF-8](https://home.unicode.org/). ASCII solo puede almacenar 128 caracteres, mientras que Unicode puede contener hasta 1.114.112 caracteres.\n",
    "\n",
    "\n",
    "\n",
    "## Abrir y cerrar archivos en Python\n",
    "\n",
    "Para abir un archivo usamos la función `open()`:"
   ]
  },
  {
   "cell_type": "code",
   "execution_count": null,
   "metadata": {
    "pycharm": {
     "name": "#%%\n"
    }
   },
   "outputs": [],
   "source": [
    "f = open(file='./test.txt')\n",
    "f"
   ]
  },
  {
   "cell_type": "markdown",
   "metadata": {},
   "source": [
    "Después de abrir un archivo, lo siguiente que debemos aprender es cómo cerrarlo.\n",
    "\n",
    "> **IMPORTANTE**: Siempre debemos de cerrar los archivos que abrimos. Los sistemas operativos limitan la cantidad de procesos que pueden acceder al mismo tiempo a un archivo, y evitan que sea modificado simultáneamente.\n",
    "\n",
    "\n",
    "La manera más fácil es llamando al método `.close()` de la clase file.\n"
   ]
  },
  {
   "cell_type": "code",
   "execution_count": null,
   "metadata": {},
   "outputs": [],
   "source": [
    "f.close()"
   ]
  },
  {
   "cell_type": "markdown",
   "metadata": {},
   "source": [
    "La manera correcta es encapsular la manipulación del archivo dento del comando `with`, conocido como *context manager*. El comando `with` automáticamente se encarga de cerrar el archivo una vez que sale del bloque de indentación, incluso si ocurre un error:"
   ]
  },
  {
   "cell_type": "code",
   "execution_count": null,
   "metadata": {},
   "outputs": [],
   "source": [
    "with open(file='./test.txt', mode='r') as f:\n",
    "    pass "
   ]
  },
  {
   "cell_type": "markdown",
   "metadata": {},
   "source": [
    "El argumento `mode` indica el modo de conexión al archivo, existen varias opciones, pero la más comunes son:\n",
    "   - 'r': Modo lectura.\n",
    "   - 'w': Modo escritura, esto truca el archivo, i.e. eliminar el contenido del archivo sin borrarlo.\n",
    "   - 'a': Modo escritura, añadiendo al final del archivo el nuevo contenido si existe el archivo.\n",
    "   - 'x': Modo de creación, fallará si ya existe el archivo.\n"
   ]
  },
  {
   "cell_type": "markdown",
   "metadata": {},
   "source": [
    "## Escribir y leer archivos en Python\n",
    "\n",
    "\n",
    "### Lectura\n",
    "\n",
    "<table>\n",
    "<tr>\n",
    "    <th>Método</th> \n",
    "    <th>¿Qué hace?</th>\n",
    "</tr>\n",
    "\n",
    "<tr>\n",
    "    <td>.read(size=-1)</td>\n",
    "    <td>Lee tantos bytes del archivo según el valor del argumento size. Si no se pasa ningún argumento o -1, entonces se lee todo el archivo.</td> \n",
    "</tr>\n",
    "\n",
    "<tr>\n",
    "    <td>.readlines()</td> \n",
    "    <td>Lee tantos caracteres de una línea según el valor del arrgumento `size`. Esto continúa hasta el final de la línea. Si no se pasa ningún argumento o -1, entonces se lee toda la línea (o el resto de la línea).</td> \n",
    "</tr>\n",
    "<tr>\n",
    "    <td>.readline(size=-1)\t</td> \n",
    "            <td>Lee las líneas restantes del objeto de archivo y las devuelve como una lista.</td> \n",
    "</tr>\n",
    " </table>\n",
    " \n"
   ]
  },
  {
   "cell_type": "code",
   "execution_count": null,
   "metadata": {},
   "outputs": [],
   "source": [
    "with open(file='./test.txt', mode='r') as f:\n",
    "    contenido = f.read()\n",
    "print(contenido)"
   ]
  },
  {
   "cell_type": "code",
   "execution_count": null,
   "metadata": {},
   "outputs": [],
   "source": [
    "contenido"
   ]
  },
  {
   "cell_type": "code",
   "execution_count": null,
   "metadata": {},
   "outputs": [],
   "source": [
    "with open(file='./test.txt', mode='r') as f:\n",
    "    print(f.readline(3))\n",
    "    print(f.readline(3))\n",
    "    print(f.readline(3))\n"
   ]
  },
  {
   "cell_type": "code",
   "execution_count": null,
   "metadata": {},
   "outputs": [],
   "source": [
    "with open(file='./test.txt', mode='r') as f:\n",
    "    con_lst = f.readlines()\n",
    "con_lst"
   ]
  },
  {
   "cell_type": "markdown",
   "metadata": {},
   "source": [
    "### Escritura\n",
    "\n",
    "Ahora veremos cómo escribir archivos. Al igual que con la lectura de archivos, exsten métodos que son útiles para escribir en un archivo.\n",
    "\n",
    "\n",
    "<table>\n",
    "<tr>\n",
    "    <th>Método</th> \n",
    "    <th>¿Qué hace?</th>\n",
    "</tr>\n",
    "\n",
    "<tr>\n",
    "    <td>.write(string))</td>\n",
    "    <td>Escribe la cadena de texto en un archivo.</td> \n",
    "</tr>\n",
    "\n",
    "<tr>\n",
    "    <td>.writelines()</td> \n",
    "    <td>Escribe una secuencia, e.g. una lista, al archivo. No se añaden finales de línea a cada elemento de secuencia. Depende de nosotros agregar los finales de línea apropiados.</td> \n",
    "</tr>\n",
    " </table>\n"
   ]
  },
  {
   "cell_type": "code",
   "execution_count": null,
   "metadata": {},
   "outputs": [],
   "source": [
    "with open(file='./test_2.txt', mode='w') as f:\n",
    "    f.write(\"Nuevo archic\")"
   ]
  }
 ],
 "metadata": {
  "kernelspec": {
   "display_name": "Python 3 (ipykernel)",
   "language": "python",
   "name": "python3"
  },
  "language_info": {
   "codemirror_mode": {
    "name": "ipython",
    "version": 3
   },
   "file_extension": ".py",
   "mimetype": "text/x-python",
   "name": "python",
   "nbconvert_exporter": "python",
   "pygments_lexer": "ipython3",
   "version": "3.13.7"
  }
 },
 "nbformat": 4,
 "nbformat_minor": 4
}
