{
 "cells": [
  {
   "cell_type": "markdown",
   "metadata": {},
   "source": [
    "# *args & **kwargs\n",
    "\n",
    "Los objetivos de aprendizaje son: \n",
    "\n",
    "1. Qué es y cómo usar `*args`\n",
    "2. Qué es y cómo usar `**kwargs`\n",
    "3. Ordenar argumentos en una función\n",
    "4. Unpacking con los operadores: * & **\n",
    "\n",
    "## Qué es y cómo usar `*args`\n",
    "\n",
    "\n",
    "`*args` nos permiten pasar un número indeterminado de argumentos a una función.\n",
    "\n",
    "Supongamos que queremos sumar dos número"
   ]
  },
  {
   "cell_type": "code",
   "execution_count": null,
   "metadata": {},
   "outputs": [],
   "source": [
    "def suma(a, b):\n",
    "    return a + b\n",
    "\n",
    "suma(1, 2)"
   ]
  },
  {
   "cell_type": "markdown",
   "metadata": {},
   "source": [
    "Imaginemos que queremos extender la funcionalidad para sumar tantos número como pueda tener una lista\n",
    "\n",
    "¿Qué podríamos hacer? Una solución no eficiente sería poner muchos argumentos con un valor por defecto igual a `0` "
   ]
  },
  {
   "cell_type": "code",
   "execution_count": null,
   "metadata": {},
   "outputs": [],
   "source": [
    "def suma(a=0, b=0, c=0, d=0, e=0):\n",
    "    return a + b + c + d + e\n",
    "\n",
    "suma(1,2,3)"
   ]
  },
  {
   "cell_type": "markdown",
   "metadata": {},
   "source": [
    "Una alternativa sería usar una lista como argumento de la función "
   ]
  },
  {
   "cell_type": "code",
   "execution_count": null,
   "metadata": {},
   "outputs": [],
   "source": [
    "def suma(lst):\n",
    "    r = 0\n",
    "    \n",
    "    for x in lst:\n",
    "        r += x\n",
    "    return r\n",
    "    \n",
    "suma([1, 2, 4, 5])"
   ]
  },
  {
   "cell_type": "markdown",
   "metadata": {},
   "source": [
    "Esta implementación funciona, pero siempre que llamemos a esta función, también deberá crear una lista, y en algunos casos no es la mejor opción.\n",
    "\n",
    "Aquí es donde `*args` puede ser realmente útil, porque permite pasar un número variable de argumentos posicionales:"
   ]
  },
  {
   "cell_type": "code",
   "execution_count": null,
   "metadata": {},
   "outputs": [],
   "source": [
    "def suma(*args):\n",
    "    r = 0\n",
    "    \n",
    "    for x in args:\n",
    "        r += x\n",
    "    return r\n",
    "\n",
    "suma(1, 2, 4, 5)"
   ]
  },
  {
   "cell_type": "markdown",
   "metadata": {},
   "source": [
    "> **Nota**: args es sólo un nombre, podemos usar cualquier cosa\n"
   ]
  },
  {
   "cell_type": "code",
   "execution_count": null,
   "metadata": {},
   "outputs": [],
   "source": [
    "def suma(*enteros):\n",
    "    r = 0\n",
    "    \n",
    "    for x in enteros:\n",
    "        r += x\n",
    "    return r\n",
    "\n",
    "suma(1, 2, 4, 5)"
   ]
  },
  {
   "cell_type": "markdown",
   "metadata": {},
   "source": [
    ">**Nota**: el objeto que estamos generando con el operador `*` no es una lista, es una tupla"
   ]
  },
  {
   "cell_type": "code",
   "execution_count": null,
   "metadata": {},
   "outputs": [],
   "source": [
    "def suma(*args):\n",
    "    print(type(args))\n",
    "\n",
    "suma(1,2,4)"
   ]
  },
  {
   "cell_type": "markdown",
   "metadata": {},
   "source": [
    "## Qué es y cómo usar `**kwargs`\n",
    "\n",
    "`**kwargs` funciona similar que `*args`, pero en lugar de aceptar argumentos posicionales, acepta argumentos del tipo *keyword*:"
   ]
  },
  {
   "cell_type": "code",
   "execution_count": null,
   "metadata": {},
   "outputs": [],
   "source": [
    "def func(**kwargs):\n",
    "    for key, value in kwargs.items():\n",
    "        print(f\"Parámetro: {key} - Argumento: {value}\")\n",
    "\n",
    "func(a=1, b=2)"
   ]
  },
  {
   "cell_type": "markdown",
   "metadata": {},
   "source": [
    "> **Nota**: kwargs es sólo un nombre, podemos usar cualquier cosa"
   ]
  },
  {
   "cell_type": "code",
   "execution_count": null,
   "metadata": {},
   "outputs": [],
   "source": [
    "def func(**hola):\n",
    "    for key, value in hola.items():\n",
    "        print(f\"Parámetro: {key} - Argumento: {value}\")\n",
    "\n",
    "func(a=1, b=2)"
   ]
  },
  {
   "cell_type": "markdown",
   "metadata": {},
   "source": [
    ">**Nota**: el objeto que estamos generando con el operador `**` es un diccionario"
   ]
  },
  {
   "cell_type": "code",
   "execution_count": null,
   "metadata": {},
   "outputs": [],
   "source": [
    "def func(**kwargs):\n",
    "    print(type(kwargs))\n",
    "\n",
    "func(a=1, b=2)"
   ]
  },
  {
   "cell_type": "markdown",
   "metadata": {},
   "source": [
    "## Ordenar argumentos en una función\n",
    "\n",
    "¿qué sucede si desea crear una función que tome un número variable de argumentos posicionales y del tipo *keyword*?\n",
    "\n",
    "Hay que tener en cuenta que el orden cuenta. Así como los argumentos no predeterminados deben preceder a los argumentos predeterminados, `*args` debe ir antes de `**kwargs`.\n",
    "\n",
    "El orden debe ser:\n",
    "\n",
    "- Argumentos estándar\n",
    "- `*args`\n",
    "- `**kwargs`\n",
    "\n",
    "Por ejemplo:"
   ]
  },
  {
   "cell_type": "code",
   "execution_count": null,
   "metadata": {},
   "outputs": [],
   "source": [
    "def func(a, b, *args, **kwargs):\n",
    "    pass"
   ]
  },
  {
   "cell_type": "code",
   "execution_count": null,
   "metadata": {},
   "outputs": [],
   "source": [
    "def func(a, b=0, *args, **kwargs):\n",
    "    pass"
   ]
  },
  {
   "cell_type": "code",
   "execution_count": null,
   "metadata": {},
   "outputs": [],
   "source": [
    "def func(**kwargs, *args):\n",
    "    pass"
   ]
  },
  {
   "cell_type": "markdown",
   "metadata": {},
   "source": [
    "## Unpacking con los operadores: * & **\n",
    "\n",
    "Los operadores de *Unpacking* simple (`*`)  y doble (`**`) sirven para extraer los valores de objetos iterables en Python. \n",
    "\n",
    "- `*` se puede usar en cualquier iterable.\n",
    "- `**` solo se puede usar en diccionarios.\n",
    "\n",
    "Por ejemplo:"
   ]
  },
  {
   "cell_type": "code",
   "execution_count": null,
   "metadata": {},
   "outputs": [],
   "source": [
    "lst = [1, 2, 3]\n",
    "print(lst)\n",
    "print(*lst)"
   ]
  },
  {
   "cell_type": "code",
   "execution_count": null,
   "metadata": {},
   "outputs": [],
   "source": [
    "lst = [1, 2, 3, 4, 5, 6]\n",
    "\n",
    "a, *b, c = lst\n",
    "\n",
    "print(a)\n",
    "print(b)\n",
    "print(c)"
   ]
  },
  {
   "cell_type": "code",
   "execution_count": null,
   "metadata": {},
   "outputs": [],
   "source": [
    "lst_1 = [1, 2, 3]\n",
    "lst_2 = [4, 5, 6]\n",
    "\n",
    "lst_total = [*lst_1, *lst_2]\n",
    "\n",
    "lst_total_2 = [lst_1, lst_2]\n",
    "\n",
    "\n",
    "print(lst_total)\n",
    "print(lst_total_2)\n",
    "lst_1.extend(lst_2)\n",
    "print(lst_1)"
   ]
  },
  {
   "cell_type": "code",
   "execution_count": null,
   "metadata": {},
   "outputs": [],
   "source": [
    "a = [*\"hola\"]\n",
    "print(a)"
   ]
  },
  {
   "cell_type": "code",
   "execution_count": null,
   "metadata": {},
   "outputs": [],
   "source": [
    "a = [c for c in \"hola\"]\n",
    "a"
   ]
  },
  {
   "cell_type": "code",
   "execution_count": null,
   "metadata": {},
   "outputs": [],
   "source": [
    "config = {\"HOST\": '224.1.1.10'}\n",
    "config_local = {\"PORT\": 5000, \"USER\": \"ht\"}\n",
    "config_app = {**config, **config_local}\n",
    "config_app"
   ]
  }
 ],
 "metadata": {
  "kernelspec": {
   "display_name": "Python 3 (ipykernel)",
   "language": "python",
   "name": "python3"
  },
  "language_info": {
   "codemirror_mode": {
    "name": "ipython",
    "version": 3
   },
   "file_extension": ".py",
   "mimetype": "text/x-python",
   "name": "python",
   "nbconvert_exporter": "python",
   "pygments_lexer": "ipython3",
   "version": "3.13.7"
  }
 },
 "nbformat": 4,
 "nbformat_minor": 4
}
