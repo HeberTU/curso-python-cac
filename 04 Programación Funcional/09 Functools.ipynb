{
 "cells": [
  {
   "cell_type": "markdown",
   "id": "852497ff",
   "metadata": {},
   "source": [
    "# Functools\n",
    "\n",
    "Los objetivos de aprendizaje son:\n",
    "\n",
    "1. ¿Qué es functools?\n",
    "2. Función `Cachin`\n",
    "3. Función `Partial`\n",
    "4. Función `Reduce`\n",
    "\n",
    "\n",
    "## ¿Qué es functools? \n",
    "\n",
    "Es un módulo estándar de Python para funciones de orden superior (funciones que actúan sobre otras funciones o las devuelven). \n",
    "\n",
    "\n",
    "## Función `Cach-in`\n",
    "\n",
    "Hay muchas maneras de lograr aplicaciones rápidas. El almacenamiento en caché hace que las cosas sean mucho más rápidas y reduce la carga de recursos. \n",
    "\n",
    "El decorador `@lru_cache`, usa la estrategia LRU *Least Recently Used*:"
   ]
  },
  {
   "cell_type": "code",
   "execution_count": null,
   "id": "54df9525",
   "metadata": {},
   "outputs": [],
   "source": [
    "import requests\n",
    "\n",
    "\n",
    "def get_from_url(url: str):\n",
    "    try:\n",
    "        r = requests.get(url)\n",
    "        return r.text\n",
    "    except:\n",
    "        return \"No se ha encontrado la página\""
   ]
  },
  {
   "cell_type": "markdown",
   "id": "daa51b4f",
   "metadata": {},
   "source": [
    "El módulo `requests` nos permite usar los métodos del protocolo HTTP. En este ejemplo estamos usando el método `GET` que se utiliza para solicitar información de un servidor dado un `URL` (*Uniform Resource Locator*)."
   ]
  },
  {
   "cell_type": "code",
   "execution_count": null,
   "id": "dbf0ff76",
   "metadata": {},
   "outputs": [],
   "source": [
    "get_from_url(\"https://google.com/\")[:100]"
   ]
  },
  {
   "cell_type": "code",
   "execution_count": null,
   "id": "65e0d4a5",
   "metadata": {},
   "outputs": [],
   "source": [
    "import time\n",
    "\n",
    "start_time = time.perf_counter()\n",
    "for url in [\"https://google.com/\",\n",
    "            \"https://pypi.org/project/requests/\",\n",
    "            \"https://reddit.com/\",\n",
    "            \"https://google.com/\",\n",
    "            \"https://pypi.org/project/requests/\",\n",
    "            \"https://google.com/\",]:\n",
    "    get_from_url(url)\n",
    "end_time = time.perf_counter()      \n",
    "run_time = end_time - start_time   \n",
    "\n",
    "print(run_time)"
   ]
  },
  {
   "cell_type": "markdown",
   "id": "7177b3d9",
   "metadata": {},
   "source": [
    "Al tratarse de operaciones a servidores remotos, las operaciones suelen tardar. Por eso éste es un buen ejemplo para usar el decorador `@lru_cache`.\n"
   ]
  },
  {
   "cell_type": "code",
   "execution_count": null,
   "id": "830e83ec",
   "metadata": {},
   "outputs": [],
   "source": [
    "from functools import lru_cache\n",
    "\n",
    "@lru_cache(maxsize=32)\n",
    "def get_from_url_with_cache(url: str):\n",
    "    try:\n",
    "        r = requests.get(url)\n",
    "        return r.text\n",
    "    except:\n",
    "        return \"No se ha encontrado la página\"\n",
    "\n",
    "start_time = time.perf_counter()\n",
    "for url in [\"https://google.com/\",\n",
    "            \"https://pypi.org/project/requests/\",\n",
    "            \"https://reddit.com/\",\n",
    "            \"https://google.com/\",\n",
    "            \"https://pypi.org/project/requests/\",\n",
    "            \"https://google.com/\",]:\n",
    "    get_from_url_with_cache(url)\n",
    "end_time = time.perf_counter()      \n",
    "run_time = end_time - start_time   \n",
    "\n",
    "print(run_time)"
   ]
  },
  {
   "cell_type": "markdown",
   "id": "bbb3ae57",
   "metadata": {},
   "source": [
    "## Función `Partial`\n",
    "\n",
    "Puede usarse para congelar algunos (o todos) los argumentos de la función, creando un nuevo objeto con una firma de función simplificada."
   ]
  },
  {
   "cell_type": "code",
   "execution_count": null,
   "id": "6f60b24d",
   "metadata": {},
   "outputs": [],
   "source": [
    "from functools import partial\n",
    "\n",
    "def sumar(a, b):\n",
    "    return a + b\n",
    "\n",
    "sumar_2 = partial(sumar, b=10)\n",
    "sumar_2(3)"
   ]
  },
  {
   "cell_type": "markdown",
   "id": "8d55af13",
   "metadata": {},
   "source": [
    "Un caso de uso un poco más elaborado sería"
   ]
  },
  {
   "cell_type": "code",
   "execution_count": null,
   "id": "7558aadb",
   "metadata": {
    "scrolled": true
   },
   "outputs": [],
   "source": [
    "import sys\n",
    "\n",
    "print_stderr = partial(print, file=sys.stderr)\n",
    "print_stderr(\"Imprime por default en modo standard error\")"
   ]
  },
  {
   "cell_type": "markdown",
   "id": "f28d59a5",
   "metadata": {},
   "source": [
    "## Función `Reduce`\n",
    "\n",
    "Toma un iterable y reduce todos sus valores en un solo valor."
   ]
  },
  {
   "cell_type": "code",
   "execution_count": null,
   "id": "f129c931",
   "metadata": {},
   "outputs": [],
   "source": [
    "from typing import Iterable\n",
    "from functools import reduce\n",
    "import operator\n",
    "\n",
    "def producto(iterable: Iterable) -> float:\n",
    "    return reduce(operator.mul, iterable, 1)\n",
    "\n",
    "def factorial(n: int)-> int:\n",
    "    return reduce(operator.mul, range(1, n+1))\n"
   ]
  },
  {
   "cell_type": "code",
   "execution_count": null,
   "id": "f2cd16d9",
   "metadata": {},
   "outputs": [],
   "source": [
    "print(producto([2, 4, 2]))"
   ]
  },
  {
   "cell_type": "code",
   "execution_count": null,
   "id": "3d5f6e54",
   "metadata": {},
   "outputs": [],
   "source": [
    "print(factorial(4))"
   ]
  }
 ],
 "metadata": {
  "kernelspec": {
   "display_name": "Python 3 (ipykernel)",
   "language": "python",
   "name": "python3"
  },
  "language_info": {
   "codemirror_mode": {
    "name": "ipython",
    "version": 3
   },
   "file_extension": ".py",
   "mimetype": "text/x-python",
   "name": "python",
   "nbconvert_exporter": "python",
   "pygments_lexer": "ipython3",
   "version": "3.13.7"
  }
 },
 "nbformat": 4,
 "nbformat_minor": 5
}
