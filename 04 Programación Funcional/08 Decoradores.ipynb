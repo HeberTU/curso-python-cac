{
 "cells": [
  {
   "cell_type": "markdown",
   "id": "2ef2fa8b",
   "metadata": {},
   "source": [
    "# Decoradores\n",
    "\n",
    "Los objetivos de aprendizaje son:\n",
    "\n",
    "1. Características especiales de Funciones\n",
    "    - First-Class Objects\n",
    "    - Anidación de funciones\n",
    "    - Regresar función desde otra función\n",
    "2. Decoradores Simples\n",
    "    - Syntaxis\n",
    "    - Decorar Funciones con argumentos\n",
    "    - Devolver valores de funciones decoradas\n",
    "3. Ejemplos reales\n",
    "    - Timing\n",
    "    - Debugging\n",
    "    \n",
    "    \n",
    "## Características especiales de Funciones \n",
    "\n",
    "Repasemos la idea de una función en Python"
   ]
  },
  {
   "cell_type": "code",
   "execution_count": null,
   "id": "d5b9d9dc",
   "metadata": {},
   "outputs": [],
   "source": [
    "def add_one(numero: int) -> int:\n",
    "    return numero + 1\n",
    "\n",
    "add_one(5)"
   ]
  },
  {
   "cell_type": "markdown",
   "id": "7b70e6fb",
   "metadata": {},
   "source": [
    "### First-Class Objects\n",
    "\n",
    "En Python, las funciones están en la categoría `First-Class Objects`. Esto significa que las funciones se pueden pasar y usar como argumentos, como cualquier otro objeto (`string`, `int`, `float`, `list`, etc.). \n",
    "\n",
    "Por ejemplo:"
   ]
  },
  {
   "cell_type": "code",
   "execution_count": null,
   "id": "861fa6c0",
   "metadata": {},
   "outputs": [],
   "source": [
    "def buenos_dias(nombre: str) -> str:\n",
    "    return f\"Buenos dias {nombre}\"\n",
    "\n",
    "def buenas_tardes(nombre: str) -> str:\n",
    "    return f\"Buenas tardes {nombre}\"\n",
    "    "
   ]
  },
  {
   "cell_type": "markdown",
   "id": "9af30f4c",
   "metadata": {},
   "source": [
    "Ahora definamos una función que toma como argumento otra función."
   ]
  },
  {
   "cell_type": "code",
   "execution_count": null,
   "id": "784cce63",
   "metadata": {},
   "outputs": [],
   "source": [
    "from typing import Callable\n",
    "\n",
    "def saludo(func: Callable)->str:\n",
    "    return func(\"Luca\")"
   ]
  },
  {
   "cell_type": "code",
   "execution_count": null,
   "id": "17f41b96",
   "metadata": {},
   "outputs": [],
   "source": [
    "saludo(buenos_dias)"
   ]
  },
  {
   "cell_type": "markdown",
   "id": "b9534af4",
   "metadata": {},
   "source": [
    "`buenos_dias()` y `buenas_tardes()` son funciones regulares que esperan un string. Sin embargo, la función `saludo()` espera una función como argumento. \n",
    "\n",
    "### Anidación de funciones\n",
    "\n",
    "Ya vimos que es posible declarar funciones dentro de otras funciones:"
   ]
  },
  {
   "cell_type": "code",
   "execution_count": null,
   "id": "d8bb596f",
   "metadata": {},
   "outputs": [],
   "source": [
    "def padre():\n",
    "    print(\"Imprimiendo desde la función padre\")\n",
    "\n",
    "    def primer_hijo():\n",
    "        print(\"Imprimiendo desde la función primer_hijo\")\n",
    "    \n",
    "    def segundo_hijo():\n",
    "        print(\"Imprimiendo desde la función segundo_hijo\")\n",
    "\n",
    "    segundo_hijo()\n",
    "    primer_hijo()"
   ]
  },
  {
   "cell_type": "code",
   "execution_count": null,
   "id": "0ff84450",
   "metadata": {},
   "outputs": [],
   "source": [
    "padre()"
   ]
  },
  {
   "cell_type": "markdown",
   "id": "a7719a00",
   "metadata": {},
   "source": [
    ">**NOTA**: El orden en que las funciones de declaran no debe ser el mismo en el que se llaman."
   ]
  },
  {
   "cell_type": "code",
   "execution_count": null,
   "id": "4b57018e",
   "metadata": {},
   "outputs": [],
   "source": [
    "segundo_hijo()"
   ]
  },
  {
   "cell_type": "markdown",
   "id": "f0e9da15",
   "metadata": {},
   "source": [
    ">**Nota**: La función `segundo_hijo()` no existe en el `namespace` global, sólo en el `local` de la función `padre()`"
   ]
  },
  {
   "cell_type": "markdown",
   "id": "18a3ecd9",
   "metadata": {},
   "source": [
    "### Regresar función desde otra función\n",
    "\n",
    "Python también le permite usar funciones como valores de retorno:"
   ]
  },
  {
   "cell_type": "code",
   "execution_count": null,
   "id": "29b9fcf1",
   "metadata": {},
   "outputs": [],
   "source": [
    "def padre(num: int) -> Callable:\n",
    "    \n",
    "\n",
    "    def primer_hijo() -> str:\n",
    "        return \"Luca\"\n",
    "\n",
    "    def segundo_hijo() -> str:\n",
    "        return \"Antonio\"\n",
    "        \n",
    "    if num == 1:\n",
    "        return primer_hijo\n",
    "    else:\n",
    "        return segundo_hijo"
   ]
  },
  {
   "cell_type": "markdown",
   "id": "d72bbfda",
   "metadata": {},
   "source": [
    ">**Nota**: Estamos deolviendo las funciones sin los paréntesis, es decir sin llamarlas."
   ]
  },
  {
   "cell_type": "code",
   "execution_count": null,
   "id": "e6d27b25",
   "metadata": {},
   "outputs": [],
   "source": [
    "primero = padre(1)\n",
    "primero()"
   ]
  },
  {
   "cell_type": "markdown",
   "id": "43009bfa",
   "metadata": {},
   "source": [
    "## Decoradores Simples\n",
    "\n",
    "Comencemos con un ejemplo:"
   ]
  },
  {
   "cell_type": "code",
   "execution_count": null,
   "id": "070d90dd",
   "metadata": {},
   "outputs": [],
   "source": [
    "def decorador(func_decorar: Callable) -> Callable:\n",
    "    \n",
    "    def wrapper() -> None:\n",
    "        \n",
    "        func_decorar()\n",
    "        print(\"Me han decorado\")\n",
    "    \n",
    "    return wrapper\n",
    "\n",
    "def func() -> None:\n",
    "    print(\"Soy la función a decorar\")\n",
    "\n"
   ]
  },
  {
   "cell_type": "code",
   "execution_count": null,
   "id": "f0c0c1e5",
   "metadata": {},
   "outputs": [],
   "source": [
    "func()"
   ]
  },
  {
   "cell_type": "code",
   "execution_count": null,
   "id": "b3e04bc9",
   "metadata": {},
   "outputs": [],
   "source": [
    "func = decorador(func_decorar=func)\n",
    "func()"
   ]
  },
  {
   "cell_type": "markdown",
   "id": "3074aa09",
   "metadata": {},
   "source": [
    "> **De manera sencilla**: Hemos envuelto la función `func` dentro de la función `wrapper` al pasarla como argumento a la función `decorador`."
   ]
  },
  {
   "cell_type": "markdown",
   "id": "606609d7",
   "metadata": {},
   "source": [
    "### Sintaxis\n",
    "\n",
    "La forma en que decoramos `func()` es un poco \"rara\". En primer lugar, terminamos escribiendo el nombre `func` varias veces. Además, la decoración queda un poco escondida.\n",
    "\n",
    "Python permite usar decoradores de una manera más simple con el símbolo `@`:"
   ]
  },
  {
   "cell_type": "code",
   "execution_count": null,
   "id": "d8a06399",
   "metadata": {},
   "outputs": [],
   "source": [
    "def decorador(func_decorar: Callable) -> Callable:\n",
    "    \n",
    "    def wrapper() -> None:\n",
    "        \n",
    "        func_decorar()\n",
    "        print(\"Me han decorado\")\n",
    "    \n",
    "    return wrapper\n",
    "\n",
    "@decorador\n",
    "def func() -> None:\n",
    "    print(\"Soy la función a decorar\")\n"
   ]
  },
  {
   "cell_type": "code",
   "execution_count": null,
   "id": "b669e98c",
   "metadata": {},
   "outputs": [],
   "source": [
    "func()"
   ]
  },
  {
   "cell_type": "markdown",
   "id": "9b66345f",
   "metadata": {},
   "source": [
    "Veamos otro ejemplo sencillo"
   ]
  },
  {
   "cell_type": "code",
   "execution_count": null,
   "id": "8a1962be",
   "metadata": {},
   "outputs": [],
   "source": [
    "def repetir(func: Callable) -> Callable:\n",
    "    def wrapper():\n",
    "        func()\n",
    "        func()\n",
    "    return wrapper"
   ]
  },
  {
   "cell_type": "code",
   "execution_count": null,
   "id": "b1f0cc7e",
   "metadata": {},
   "outputs": [],
   "source": [
    "@repetir\n",
    "def saludar() -> None:\n",
    "    print(\"hola\")"
   ]
  },
  {
   "cell_type": "code",
   "execution_count": null,
   "id": "e6755b4b",
   "metadata": {},
   "outputs": [],
   "source": [
    "saludar()"
   ]
  },
  {
   "cell_type": "markdown",
   "id": "270c8594",
   "metadata": {},
   "source": [
    "## Decorar Funciones con argumentos\n",
    "\n",
    "Supongamos que tenemos una función que acepta algunos argumentos. ¿Todavía podríamos decorarla?"
   ]
  },
  {
   "cell_type": "code",
   "execution_count": null,
   "id": "09a31b16",
   "metadata": {},
   "outputs": [],
   "source": [
    "@repetir\n",
    "def saludar(nombre: str) -> None:\n",
    "    print(f\"hola {nombre}\")"
   ]
  },
  {
   "cell_type": "code",
   "execution_count": null,
   "id": "42c1afc4",
   "metadata": {},
   "outputs": [],
   "source": [
    "saludar(nombre=\"Luca\")"
   ]
  },
  {
   "cell_type": "markdown",
   "id": "d0f2ecff",
   "metadata": {},
   "source": [
    "El problema es que la función interna `wrapper()` no toma ningún argumento, pero hemos pasado `nombre=\"Luca\"`. \n",
    "\n",
    "La solución es usar `*args` y `**kwargs` en la función `wrapper()`. para que acepte un número arbitrario de argumentos posicionales y del tipo *keyword*:"
   ]
  },
  {
   "cell_type": "code",
   "execution_count": null,
   "id": "f97b27d2",
   "metadata": {},
   "outputs": [],
   "source": [
    "def repetir(func: Callable) -> Callable:\n",
    "    def wrapper(*args, **kwargs):\n",
    "        func(*args, **kwargs)\n",
    "        func(*args, **kwargs)\n",
    "    return wrapper\n",
    "\n",
    "@repetir\n",
    "def saludar(nombre: str) -> str:\n",
    "    print(f\"hola {nombre}\")\n",
    "    \n",
    "saludar(nombre=\"Luca\")"
   ]
  },
  {
   "cell_type": "code",
   "execution_count": null,
   "id": "8b2dfa17",
   "metadata": {},
   "outputs": [],
   "source": [
    "@repetir\n",
    "def saludar_sin_nombre() -> str:\n",
    "    print(\"hola\")\n",
    "\n",
    "saludar_sin_nombre()"
   ]
  },
  {
   "cell_type": "markdown",
   "id": "ff03a315",
   "metadata": {},
   "source": [
    "### Devolver valores de funciones decoradas\n",
    "\n",
    "¿Qué sucede con el valor de retorno de las funciones decoradas?"
   ]
  },
  {
   "cell_type": "code",
   "execution_count": null,
   "id": "4edd2842",
   "metadata": {},
   "outputs": [],
   "source": [
    "@repetir\n",
    "def saludos_con_return(nombre: str) -> str:\n",
    "    print(\"Creando saludo\")\n",
    "    return f\"Hola {nombre}\"\n",
    "\n",
    "saludo_a_luca = saludos_con_return(nombre=\"Luca\")\n",
    "\n",
    "saludo_a_luca"
   ]
  },
  {
   "cell_type": "code",
   "execution_count": null,
   "id": "bc3ee4f2-d251-4df4-b2a8-bffb880ffb9a",
   "metadata": {},
   "outputs": [],
   "source": [
    "saludos_con_return(nombre=\"Luca\")"
   ]
  },
  {
   "cell_type": "code",
   "execution_count": null,
   "id": "e72c029e",
   "metadata": {},
   "outputs": [],
   "source": [
    "print(saludo_a_luca)"
   ]
  },
  {
   "cell_type": "markdown",
   "id": "03ba45b3",
   "metadata": {},
   "source": [
    "El decorador se comió el valor de retorno de la función.\n",
    "\n",
    "Debido a que `wrapper()` no devuelve explícitamente un valor, la llamada `saludos_con_return(nombre=\"Luca\")` terminó devolviendo `None`.\n",
    "\n",
    "Para solucionarlo podemos:"
   ]
  },
  {
   "cell_type": "code",
   "execution_count": null,
   "id": "87a6b57e",
   "metadata": {},
   "outputs": [],
   "source": [
    "def repetir(func: Callable) -> Callable:\n",
    "    def wrapper(*args, **kwargs):\n",
    "        func(*args, **kwargs)\n",
    "        return func(*args, **kwargs)\n",
    "    return wrapper\n",
    "\n",
    "@repetir\n",
    "def saludos_con_return(nombre: str) -> str:\n",
    "    print(\"Creando saludo\")\n",
    "    return f\"Hola {nombre}\"\n",
    "\n",
    "saludo_a_luca = saludos_con_return(nombre=\"Luca\")\n",
    "\n",
    "saludo_a_luca"
   ]
  },
  {
   "cell_type": "markdown",
   "id": "c647e11b",
   "metadata": {},
   "source": [
    "> **Nota**: La función `saludos_con_return` termina siendo en realidad la función `wrapper`."
   ]
  },
  {
   "cell_type": "code",
   "execution_count": null,
   "id": "a1c93c5d",
   "metadata": {},
   "outputs": [],
   "source": [
    "print.__name__"
   ]
  },
  {
   "cell_type": "code",
   "execution_count": null,
   "id": "16fdcc9d",
   "metadata": {},
   "outputs": [],
   "source": [
    "def saludos_con_return(nombre: str) -> str:\n",
    "    print(\"Creando saludo\")\n",
    "    return f\"Hola {nombre}\"\n",
    "\n",
    "saludos_con_return.__name__"
   ]
  },
  {
   "cell_type": "code",
   "execution_count": null,
   "id": "306346ba",
   "metadata": {},
   "outputs": [],
   "source": [
    "@repetir\n",
    "def saludos_con_return(nombre: str) -> str:\n",
    "    \"\"\"DocSrint\"\"\"\n",
    "    print(\"Creando saludo\")\n",
    "    return f\"Hola {nombre}\"\n",
    "\n",
    "saludos_con_return"
   ]
  },
  {
   "cell_type": "markdown",
   "id": "8744a47f",
   "metadata": {},
   "source": [
    "## Ejemplos reales\n",
    "\n",
    "Veamos algunos ejemplos más útiles de decoradores.\n",
    "\n",
    "### Timing\n",
    "\n",
    "Comencemos por crear un decorador `@timer`. Medirá el tiempo que tarda una función en ejecutarse e imprimirá la duración en la consola:"
   ]
  },
  {
   "cell_type": "code",
   "execution_count": null,
   "id": "4bbe7317",
   "metadata": {},
   "outputs": [],
   "source": [
    "import functools\n",
    "import time\n",
    "\n",
    "def timer(func: Callable) -> Callable:\n",
    "\n",
    "    @functools.wraps(func)\n",
    "    def wrapper_timer(*args, **kwargs):\n",
    "        start_time = time.perf_counter()    \n",
    "        value = func(*args, **kwargs)\n",
    "        end_time = time.perf_counter()      \n",
    "        run_time = end_time - start_time    \n",
    "        print(f\"Finalizando {func.__name__!r} en {run_time:.4f} secs\")\n",
    "        return value\n",
    "    return wrapper_timer\n",
    "\n",
    "@timer\n",
    "def elevar_al_cuadrado(num_times: int)->None:\n",
    "    \"\"\"Docstring\"\"\"\n",
    "    for _ in range(num_times):\n",
    "        sum([i**2 for i in range(10000)])"
   ]
  },
  {
   "cell_type": "code",
   "execution_count": null,
   "id": "09f1a7f1",
   "metadata": {},
   "outputs": [],
   "source": [
    "elevar_al_cuadrado(100)"
   ]
  },
  {
   "cell_type": "markdown",
   "id": "599a7558",
   "metadata": {},
   "source": [
    ">**Nota**: `functools` es un módulo estándar de Python para funciones de orden superior (funciones que actúan sobre otras funciones o las devuelven). `wraps()` es un decorador que se aplica a la función \"envoltura\" de un decorador. Actualiza la función contenedora para que parezca la función original"
   ]
  },
  {
   "cell_type": "code",
   "execution_count": null,
   "id": "2afca765",
   "metadata": {},
   "outputs": [],
   "source": [
    "elevar_al_cuadrado"
   ]
  },
  {
   "cell_type": "markdown",
   "id": "3a9c52ab",
   "metadata": {},
   "source": [
    "### Debugging\n",
    "\n",
    "El siguiente decorador `@debug` imprimirá los argumentos con los que se llama a una función, así como su valor de retorno cada vez que se llama a la función:"
   ]
  },
  {
   "cell_type": "code",
   "execution_count": null,
   "id": "d48a74c2",
   "metadata": {},
   "outputs": [],
   "source": [
    "def debug(func: Callable) -> Callable:\n",
    "    \"\"\"Print the function signature and return value\"\"\"\n",
    "    @functools.wraps(func)\n",
    "    def wrapper_debug(*args, **kwargs):\n",
    "        args_repr = [repr(a) for a in args]                      \n",
    "        kwargs_repr = [f\"{k}={v!r}\" for k, v in kwargs.items()]  \n",
    "        signature = \", \".join(args_repr + kwargs_repr)           \n",
    "        print(f\"LLamando {func.__name__}({signature})\")\n",
    "        value = func(*args, **kwargs)\n",
    "        print(f\"La función {func.__name__!r} regresa {value!r}\")           \n",
    "        return value\n",
    "    return wrapper_debug"
   ]
  },
  {
   "cell_type": "code",
   "execution_count": null,
   "id": "1be7b584",
   "metadata": {},
   "outputs": [],
   "source": [
    "from typing import Optional\n",
    "\n",
    "@debug\n",
    "def saludar(nombre: str, edad: Optional[int] = None) -> str:\n",
    "    if edad is None:\n",
    "        return f\"Hola {nombre}\"\n",
    "    else:\n",
    "        return f\"Hola {nombre} tu edad es {edad}\""
   ]
  },
  {
   "cell_type": "code",
   "execution_count": null,
   "id": "9bcb37e4",
   "metadata": {},
   "outputs": [],
   "source": [
    "saludar(\"Luca\")"
   ]
  },
  {
   "cell_type": "code",
   "execution_count": null,
   "id": "049a8438",
   "metadata": {},
   "outputs": [],
   "source": [
    "saludar(\"Luca\", 29)"
   ]
  }
 ],
 "metadata": {
  "kernelspec": {
   "display_name": "Python 3 (ipykernel)",
   "language": "python",
   "name": "python3"
  },
  "language_info": {
   "codemirror_mode": {
    "name": "ipython",
    "version": 3
   },
   "file_extension": ".py",
   "mimetype": "text/x-python",
   "name": "python",
   "nbconvert_exporter": "python",
   "pygments_lexer": "ipython3",
   "version": "3.13.7"
  }
 },
 "nbformat": 4,
 "nbformat_minor": 5
}
