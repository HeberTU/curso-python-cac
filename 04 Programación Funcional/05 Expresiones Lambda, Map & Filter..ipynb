{
 "cells": [
  {
   "cell_type": "markdown",
   "metadata": {},
   "source": [
    "# Expresiones Lambda, Map & Filter.\n",
    "\n",
    "Los objetivos de aprendizaje son:\n",
    "\n",
    "1. Función `map`\n",
    "2. Función `filter`\n",
    "3. Expresiones Lambda\n",
    "\n",
    "\n",
    "## Función `map`\n",
    "\n",
    "La función `map()` aplica una función `f()` a un iterable. Veamos un ejemplo:\n",
    "\n",
    "1. Declararemos una función\n",
    "2. Instanciaremos una lista \n",
    "3. Usaremos la función map.\n"
   ]
  },
  {
   "cell_type": "code",
   "execution_count": null,
   "metadata": {},
   "outputs": [],
   "source": [
    "def cuadrados(num: float) -> float:\n",
    "    \"\"\"Calcula el cuadrado de un número\n",
    "    \n",
    "    args: \n",
    "        num: Número a elevar al cuadrado.\n",
    "        \n",
    "    Returns:\n",
    "        float: número elevado al cuadrado\n",
    "    \"\"\"\n",
    "    return num**2"
   ]
  },
  {
   "cell_type": "code",
   "execution_count": null,
   "metadata": {},
   "outputs": [],
   "source": [
    "lst = [1, 2, 3, 4, 5]"
   ]
  },
  {
   "cell_type": "markdown",
   "metadata": {},
   "source": [
    ">**<font color='#EEB422'>¡Importante!</font>** Al momento de introducir una función como argumento de la función `map()` es importante que la función no vaya acompañada de paréntesis `()`."
   ]
  },
  {
   "cell_type": "code",
   "execution_count": null,
   "metadata": {},
   "outputs": [],
   "source": [
    "map(cuadrados, lst)"
   ]
  },
  {
   "cell_type": "markdown",
   "metadata": {},
   "source": [
    "¿Qué ha sucedido? \n",
    "\n",
    "La función `map` regresa un tipo de objeto conocidos como `generators`, cuya particularidad es que calculan los resultados sólo cuando es neesario."
   ]
  },
  {
   "cell_type": "code",
   "execution_count": null,
   "metadata": {},
   "outputs": [],
   "source": [
    "list(map(cuadrados, lst))"
   ]
  },
  {
   "cell_type": "markdown",
   "metadata": {},
   "source": [
    "Y podemos *mapear* funciones tan complejas como sean necesarias. "
   ]
  },
  {
   "cell_type": "code",
   "execution_count": null,
   "metadata": {},
   "outputs": [],
   "source": [
    "from typing import Tuple, Union\n",
    "\n",
    "def politica_uw(t: Tuple[float, float]) -> Union[float, str]:\n",
    "    \"\"\"Aplica una pseudo política de subscripción según frec y sev.\n",
    "    \n",
    "    args: \n",
    "        t: Tupla cuyo primer elemento es la frecuencia y segundo la \n",
    "            severidad.\n",
    "            \n",
    "    Returns:\n",
    "        Union[float, str]: frec * sev si frec * sev < 50, de caso\n",
    "        contrario \"Riesgo rechazado\".\n",
    "    \"\"\"\n",
    "    # tuple unpacking\n",
    "    frec, cmed = t\n",
    "    pr =  frec*cmed\n",
    "    \n",
    "    if pr >= 50:\n",
    "        return \"Riesgo rechazado\"\n",
    "    return pr"
   ]
  },
  {
   "cell_type": "code",
   "execution_count": null,
   "metadata": {},
   "outputs": [],
   "source": [
    "frec_cmed = [(0.1, 100), (0.5, 200), (0.05, 400), (0.02, 350)]"
   ]
  },
  {
   "cell_type": "code",
   "execution_count": null,
   "metadata": {},
   "outputs": [],
   "source": [
    "list(map(politica_uw, frec_cmed))"
   ]
  },
  {
   "cell_type": "markdown",
   "metadata": {},
   "source": [
    "## Función `filter()`\n",
    "\n",
    "La función `filter()` nos ayuda a filtrar los elementos de un iterable en donde algúna condición se cumple. Veamos un ejemplo:"
   ]
  },
  {
   "cell_type": "code",
   "execution_count": null,
   "metadata": {},
   "outputs": [],
   "source": [
    "def check_par(num: int) -> bool:\n",
    "    \"\"\"Verifica si el número es par\n",
    "    \n",
    "    args: \n",
    "        num: Número a verificar si es par.\n",
    "        \n",
    "    Returns:\n",
    "        bool: True si es par.\n",
    "    \"\"\"\n",
    "\n",
    "    return num % 2 == 0"
   ]
  },
  {
   "cell_type": "code",
   "execution_count": null,
   "metadata": {},
   "outputs": [],
   "source": [
    "nums = list(range(0,11))\n",
    "nums"
   ]
  },
  {
   "cell_type": "code",
   "execution_count": null,
   "metadata": {},
   "outputs": [],
   "source": [
    "filter(check_par, nums)"
   ]
  },
  {
   "cell_type": "markdown",
   "metadata": {},
   "source": [
    "Igual que con la función `map()`, para poder ver el resultado deberemos de convertirlo en una lista o algún otro iterable."
   ]
  },
  {
   "cell_type": "code",
   "execution_count": null,
   "metadata": {},
   "outputs": [],
   "source": [
    "list(filter(check_par, nums))"
   ]
  },
  {
   "cell_type": "markdown",
   "metadata": {},
   "source": [
    "## Expresiones Lambda\n",
    "\n",
    "Nos permiten crear una función \"anónima\". Esto significa que podemos construir una función ad-hoc (generalmente sencilla) sin tener que definirla con la palabra reservada `def`.\n",
    "\n",
    "¿Cuál es la ventaja? **El cuerpo entero de una expresión lambda es una sóla expresión, no un bloque de código**\n",
    "\n",
    "Veamos un ejemplo"
   ]
  },
  {
   "cell_type": "code",
   "execution_count": null,
   "metadata": {},
   "outputs": [],
   "source": [
    "# comenzaremos por crear una función de manera muy explícita \n",
    "def cuadrados(num):\n",
    "    resultado = num**2\n",
    "    return resultado"
   ]
  },
  {
   "cell_type": "code",
   "execution_count": null,
   "metadata": {
    "scrolled": true
   },
   "outputs": [],
   "source": [
    "cuadrados(2)"
   ]
  },
  {
   "cell_type": "markdown",
   "metadata": {},
   "source": [
    "Simplificando un poco ..."
   ]
  },
  {
   "cell_type": "code",
   "execution_count": null,
   "metadata": {},
   "outputs": [],
   "source": [
    "def cuadrados(num):\n",
    "    return num**2"
   ]
  },
  {
   "cell_type": "code",
   "execution_count": null,
   "metadata": {},
   "outputs": [],
   "source": [
    "cuadrados(2)"
   ]
  },
  {
   "cell_type": "markdown",
   "metadata": {},
   "source": [
    "Eliminando un poco de espacio..."
   ]
  },
  {
   "cell_type": "code",
   "execution_count": null,
   "metadata": {},
   "outputs": [],
   "source": [
    "def cuadrados(num): return num ** 2"
   ]
  },
  {
   "cell_type": "code",
   "execution_count": null,
   "metadata": {},
   "outputs": [],
   "source": [
    "cuadrados(2)"
   ]
  },
  {
   "cell_type": "markdown",
   "metadata": {},
   "source": [
    "Partiendo de la anterior expresión, construyamos una expresión lambda equivalente:"
   ]
  },
  {
   "cell_type": "code",
   "execution_count": null,
   "metadata": {},
   "outputs": [],
   "source": [
    "lambda num:  num ** 2"
   ]
  },
  {
   "cell_type": "markdown",
   "metadata": {},
   "source": [
    "De este modo la función es creada... pero ¿Cómo llamarla? \n",
    "\n",
    "**SÓLO** para mostrar de manera explícita su uso, hagamos lo siguiente:"
   ]
  },
  {
   "cell_type": "code",
   "execution_count": null,
   "metadata": {},
   "outputs": [],
   "source": [
    "cuadrados_lambda = lambda num: num ** 2 "
   ]
  },
  {
   "cell_type": "code",
   "execution_count": null,
   "metadata": {},
   "outputs": [],
   "source": [
    "cuadrados_lambda(2)"
   ]
  },
  {
   "cell_type": "markdown",
   "metadata": {},
   "source": [
    "veamos algunos ejemplos en donde su uso puede tener más sentido:"
   ]
  },
  {
   "cell_type": "code",
   "execution_count": null,
   "metadata": {},
   "outputs": [],
   "source": [
    "nums = [1,2,3,4,5]\n",
    "list(map(lambda num: num ** 2, nums))"
   ]
  },
  {
   "cell_type": "code",
   "execution_count": null,
   "metadata": {},
   "outputs": [],
   "source": [
    "nums = list(range(1,11))\n",
    "list(filter(lambda num: num % 2 == 0, nums))"
   ]
  },
  {
   "cell_type": "code",
   "execution_count": null,
   "metadata": {},
   "outputs": [],
   "source": [
    "matriculas = [\"1911lsq\", \"1234abs\", \"1145lms\"]\n",
    "list(map(lambda s: s[4:].upper(),matriculas))"
   ]
  }
 ],
 "metadata": {
  "kernelspec": {
   "display_name": "Python 3 (ipykernel)",
   "language": "python",
   "name": "python3"
  },
  "language_info": {
   "codemirror_mode": {
    "name": "ipython",
    "version": 3
   },
   "file_extension": ".py",
   "mimetype": "text/x-python",
   "name": "python",
   "nbconvert_exporter": "python",
   "pygments_lexer": "ipython3",
   "version": "3.13.7"
  }
 },
 "nbformat": 4,
 "nbformat_minor": 4
}
