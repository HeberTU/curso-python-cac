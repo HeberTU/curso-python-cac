{
 "cells": [
  {
   "cell_type": "markdown",
   "metadata": {},
   "source": [
    "# Funciones\n",
    "\n",
    "Los objetivos de aprendizaje son:\n",
    "\n",
    "1. Funciones en Python\n",
    "2. La importancia de las funciones en Python\n",
    "    - Abstracción y reutilización\n",
    "    - Modularidad\n",
    "3. Declaración y ejecución de funciones\n",
    "4. Parámetros \n",
    "    - posicionales \n",
    "    - Keyword\n",
    "    - Default\n",
    "5. cláusula `return`\n",
    "6. Docstrings\n",
    "7. Annotations\n",
    "8. Ejemplos\n",
    "\n",
    "\n",
    "## Funciones en Python\n",
    "\n",
    "En matemáticas una función es una relación o mapeo entre:\n",
    "\n",
    "- una o más entradas\n",
    "- un conjunto de salidas.\n",
    "\n",
    "$$z = f(x, y)$$ \n",
    "\n",
    "Aquí, $f$ es una función que acepta dos parámetros $x$ e $y$, y regresa un valor $z$. \n",
    "\n",
    "\n",
    ">En programación, una función es un bloque de código autónomo que encapsula una tarea específica o un grupo de tareas relacionado.\n",
    "\n",
    "Durante el curso ya hemos visto el uso de funciones, e.g. `len()` que toma como parámetro una lista y regresa la longitud de ésta.\n"
   ]
  },
  {
   "cell_type": "code",
   "execution_count": 1,
   "metadata": {},
   "outputs": [
    {
     "data": {
      "text/plain": [
       "3"
      ]
     },
     "execution_count": 1,
     "metadata": {},
     "output_type": "execute_result"
    }
   ],
   "source": [
    "lst = [1, 2, 4]\n",
    "len(lst)"
   ]
  },
  {
   "cell_type": "markdown",
   "metadata": {},
   "source": [
    "O la función `any()` que toma un iterable y regresa `True` si al menos uno de los elementos del iterable evalúa como verdadero"
   ]
  },
  {
   "cell_type": "code",
   "execution_count": 2,
   "metadata": {},
   "outputs": [
    {
     "data": {
      "text/plain": [
       "True"
      ]
     },
     "execution_count": 2,
     "metadata": {},
     "output_type": "execute_result"
    }
   ],
   "source": [
    "any([True, True, False])"
   ]
  },
  {
   "cell_type": "markdown",
   "metadata": {},
   "source": [
    "Cada una de estas funciones realiza una tarea específica. El código que realiza la tarea está definido en alguna parte. Lo único que debemos saber para usarlas es:\n",
    "\n",
    "- Qué argumentos (si los hay) se necesitan\n",
    "- Qué valores (si los hay) devuelve\n",
    "\n",
    "Es decir, sólo necesitamos saber la interfaz de usuario.\n",
    "\n",
    "## La importancia de las funciones en Python\n",
    "\n",
    "Prácticamente todos los lenguajes de programación que se usan hoy en día admiten una forma de funciones definidas por el usuario. ¿por qué? Hay varias muy buenas razones\n",
    "\n",
    "### Abstracción y reutilización\n",
    "\n",
    "Supongamos que escribimos un código que hace algo útil, e.g. encontrar el índice del valor máximo de una lista"
   ]
  },
  {
   "cell_type": "code",
   "execution_count": 3,
   "metadata": {},
   "outputs": [
    {
     "data": {
      "text/plain": [
       "3"
      ]
     },
     "execution_count": 3,
     "metadata": {},
     "output_type": "execute_result"
    }
   ],
   "source": [
    "lst = [0, 2, 1, 5]\n",
    "\n",
    "idx_max = 0\n",
    "for idx, val in enumerate(lst):\n",
    "\n",
    "    if idx == 0:\n",
    "        max_val = val\n",
    "        \n",
    "\n",
    "    if val > max_val:\n",
    "\n",
    "        idx_max = idx\n",
    "\n",
    "idx_max"
   ]
  },
  {
   "cell_type": "markdown",
   "metadata": {},
   "source": [
    "Es probable que a medida que dessarrollemos más código querramos repetir la tarea realizada por ese código con frecuencia y en muchas ubicaciones diferentes. ¿Qué hacer? Bueno, podríamos simplemente replicar el código una y otra vez, usando la capacidad de copiar y pegar de nuestro editor."
   ]
  },
  {
   "cell_type": "code",
   "execution_count": 4,
   "metadata": {},
   "outputs": [
    {
     "data": {
      "text/plain": [
       "2"
      ]
     },
     "execution_count": 4,
     "metadata": {},
     "output_type": "execute_result"
    }
   ],
   "source": [
    "lst_2 = [0, 2, 5, -1]\n",
    "\n",
    "idx_max = 0\n",
    "for idx, val in enumerate(lst_2):\n",
    "\n",
    "    if idx == 0:\n",
    "        max_val = val\n",
    "        \n",
    "\n",
    "    if val > max_val:\n",
    "\n",
    "        idx_max = idx\n",
    "\n",
    "idx_max"
   ]
  },
  {
   "cell_type": "markdown",
   "metadata": {},
   "source": [
    "Más adelante, probablemente decidamos que el código en cuestión debe modificarse, e.g. podríamos encontrar un error. \n",
    "\n",
    "En nuestro caso podemos ver que nuestro código falla al no detectar el máximo está en la posición `1`"
   ]
  },
  {
   "cell_type": "code",
   "execution_count": 5,
   "metadata": {},
   "outputs": [
    {
     "data": {
      "text/plain": [
       "2"
      ]
     },
     "execution_count": 5,
     "metadata": {},
     "output_type": "execute_result"
    }
   ],
   "source": [
    "lst_2 = [0, 20, 5, -1]\n",
    "\n",
    "idx_max = 0\n",
    "for idx, val in enumerate(lst_2):\n",
    "\n",
    "    if idx == 0:\n",
    "        max_val = val\n",
    "        \n",
    "\n",
    "    if val > max_val:\n",
    "\n",
    "        idx_max = idx\n",
    "\n",
    "idx_max"
   ]
  },
  {
   "cell_type": "markdown",
   "metadata": {},
   "source": [
    "Si las copias del código están dispersas por toda la aplicación, deberemos realizar los cambios necesarios en muchas partes."
   ]
  },
  {
   "cell_type": "code",
   "execution_count": 6,
   "metadata": {},
   "outputs": [
    {
     "data": {
      "text/plain": [
       "1"
      ]
     },
     "execution_count": 6,
     "metadata": {},
     "output_type": "execute_result"
    }
   ],
   "source": [
    "lst_2 = [0, 20, 5, -1]\n",
    "\n",
    "idx_max = 0\n",
    "for idx, val in enumerate(lst_2):\n",
    "\n",
    "    if idx == 0:\n",
    "        max_val = val\n",
    "        \n",
    "\n",
    "    if val > max_val:\n",
    "\n",
    "        idx_max = idx\n",
    "        max_val = val\n",
    "\n",
    "idx_max"
   ]
  },
  {
   "cell_type": "markdown",
   "metadata": {},
   "source": [
    "Una mejor solución es definir una función de Python que realice la tarea en cualquier lugar de nuestra aplicación.\n",
    "\n",
    "La abstracción de la funcionalidad dentro de una función de Python es un ejemplo del principio de desarrollo de software llamado [Don't Repeat Yourself (DRY)](https://en.wikipedia.org/wiki/Don%27t_repeat_yourself).\n",
    "\n",
    "\n",
    "### Modularidad\n",
    "\n",
    "Las funciones permiten dividir procesos complejos en pasos más pequeños. Imaginemos por ejemplo, que queremos desarrollar un programa que lee un archivo, transforme el contenido del archivo y luego escriba un archivo de salida.\n",
    "\n",
    "```` python\n",
    "with open('input_path') as f:\n",
    "    datos = f.read()\n",
    "datos = datos.split()\n",
    "datos = [x for x in datos if 'h' in x]\n",
    "with open('output_path', 'w') as f:\n",
    "    f.write()\n",
    "````\n",
    "\n",
    "En este ejemplo, el programa principal es un montón de código encadenado en una secuencia larga. Sin embargo, si el código se volviera mucho más largo y complejo, entonces cada vez sería más difícil entenderlo.\n",
    "\n",
    "Alternativamente, podríamos estructurar el código de la siguiente forma:\n",
    "\n",
    "\n",
    "```` python\n",
    "def leer_datos(input_path):\n",
    "    with open(input_path) as f:\n",
    "        datos = f.read()\n",
    "    return datos\n",
    "\n",
    "def procesar_datos(datos):\n",
    "    datos = datos.split()\n",
    "    datos = [x for x in datos if 'h' in x]\n",
    "    return datos\n",
    "\n",
    "def escribir_datos(datos, output_path):\n",
    "    with open(output_path, 'w') as f:\n",
    "        f.write()\n",
    "\n",
    "datos = leer_datos('input_path')       \n",
    "datos = procesar_datos(datos)  \n",
    "escribir_datos(datos, 'output_path')\n",
    "````\n",
    "\n",
    "Este ejemplo está modularizado. En lugar de unir todo el código, se divide en funciones separadas, cada una de las cuales se enfoca en una tarea específica.\n",
    "\n",
    "\n",
    "## Declaración y ejecución de funciones\n",
    "\n",
    "La sintaxis más básica para definir una función de Python es la siguiente:\n",
    "\n",
    "```` python\n",
    "def <function_name>([<parameters>]):\n",
    "    <statement(s)>\n",
    "    return \n",
    "````\n",
    "\n",
    "Donde: \n",
    "\n",
    "- `def`: Es la palabra reservada que informa a Python que se está definiendo una función.\n",
    "- `function_name`: Un identificador de Python [válido](https://peps.python.org/pep-0008/#function-and-variable-names) que nombra la función.\n",
    "- `parameters`: Una lista opcional de parámetros separados por comas que se pueden pasar a la función.\n",
    "- `statement(s)`: Un bloque de sentencias de Python válidas."
   ]
  },
  {
   "cell_type": "markdown",
   "metadata": {},
   "source": [
    "La sintaxis para llamar a una función de Python es la siguiente:\n",
    "\n",
    "```` python\n",
    "<function_name>([<arguments>])\n",
    "\n",
    "````\n",
    "Donde:\n",
    "\n",
    "- `arguments`: son los valores pasados a la función. Corresponden a los `parámetros` en la definición de la función de Python.\n",
    "- `function_name`: El nombre de la función que queremos llamar.\n",
    "\n"
   ]
  },
  {
   "cell_type": "code",
   "execution_count": 7,
   "metadata": {},
   "outputs": [
    {
     "name": "stdout",
     "output_type": "stream",
     "text": [
      "Antes de llamar a la función\n",
      "Hola\n",
      "Después de llamar a la función\n"
     ]
    }
   ],
   "source": [
    "def saludar():\n",
    "    print(\"Hola\")\n",
    "    \n",
    "print(\"Antes de llamar a la función\")\n",
    "saludar()\n",
    "print(\"Después de llamar a la función\")"
   ]
  },
  {
   "cell_type": "code",
   "execution_count": 8,
   "metadata": {},
   "outputs": [
    {
     "data": {
      "text/plain": [
       "<function __main__.saludar()>"
      ]
     },
     "execution_count": 8,
     "metadata": {},
     "output_type": "execute_result"
    }
   ],
   "source": [
    "saludar"
   ]
  },
  {
   "cell_type": "markdown",
   "metadata": {},
   "source": [
    "## Parámetros\n",
    "\n",
    "La funcióm que hemos definido no acepta ningún argumento. Sin embargo, lo más frecuente es que desee pasar datos a una función para que su comportamiento pueda variar de una invocación a otra.\n",
    "\n",
    "### Parámetros posicionales\n",
    "\n",
    "La forma más sencilla de pasar argumentos a una función de Python es con argumentos posicionales (también llamados argumentos requeridos). \n",
    "\n",
    "En la definición de la función, especificaremos una lista de parámetros separados por comas:"
   ]
  },
  {
   "cell_type": "code",
   "execution_count": 9,
   "metadata": {},
   "outputs": [],
   "source": [
    "def calcular_precio(cantidad, precio, item):\n",
    "    print(f\"Precio por {cantidad} {item} es: {cantidad*precio}\")"
   ]
  },
  {
   "cell_type": "code",
   "execution_count": 10,
   "metadata": {},
   "outputs": [
    {
     "name": "stdout",
     "output_type": "stream",
     "text": [
      "Precio por 2 manzana es: 2.4\n"
     ]
    }
   ],
   "source": [
    "calcular_precio(2, 1.2, \"manzana\")"
   ]
  },
  {
   "cell_type": "markdown",
   "metadata": {},
   "source": [
    "Los parámetros (`cantidad`, `precio` e `item`) se comportan como variables que se definen localmente en la función.\n",
    "\n",
    "Cuando se llama a la función, los argumentos que se pasan (`2`, `1.2` y `'manzans'`) se vinculan a los parámetros en orden, como si se tratara de una asignación de variables.\n",
    "\n",
    "Aunque los argumentos posicionales son la forma más sencilla de pasar datos a una función, también ofrecen la menor flexibilidad. \n",
    "\n",
    "Para empezar, el orden de los argumentos en la llamada debe coincidir con el orden de los parámetros en la definición. No hay nada que le impida especificar argumentos posicionales fuera de orden:"
   ]
  },
  {
   "cell_type": "code",
   "execution_count": 11,
   "metadata": {},
   "outputs": [
    {
     "name": "stdout",
     "output_type": "stream",
     "text": [
      "Precio por 2 1.2 es: manzanamanzana\n"
     ]
    }
   ],
   "source": [
    "calcular_precio(2, \"manzana\", 1.2)"
   ]
  },
  {
   "cell_type": "markdown",
   "metadata": {},
   "source": [
    "Con argumentos posicionales, los argumentos en la llamada y los parámetros en la definición deben coincidir no solo en orden sino también en número."
   ]
  },
  {
   "cell_type": "code",
   "execution_count": 12,
   "metadata": {},
   "outputs": [
    {
     "ename": "TypeError",
     "evalue": "calcular_precio() missing 1 required positional argument: 'item'",
     "output_type": "error",
     "traceback": [
      "\u001b[31m---------------------------------------------------------------------------\u001b[39m",
      "\u001b[31mTypeError\u001b[39m                                 Traceback (most recent call last)",
      "\u001b[36mCell\u001b[39m\u001b[36m \u001b[39m\u001b[32mIn[12]\u001b[39m\u001b[32m, line 1\u001b[39m\n\u001b[32m----> \u001b[39m\u001b[32m1\u001b[39m \u001b[43mcalcular_precio\u001b[49m\u001b[43m(\u001b[49m\u001b[32;43m2\u001b[39;49m\u001b[43m,\u001b[49m\u001b[43m \u001b[49m\u001b[33;43m\"\u001b[39;49m\u001b[33;43mmanzana\u001b[39;49m\u001b[33;43m\"\u001b[39;49m\u001b[43m)\u001b[49m\n",
      "\u001b[31mTypeError\u001b[39m: calcular_precio() missing 1 required positional argument: 'item'"
     ]
    }
   ],
   "source": [
    "calcular_precio(2, \"manzana\")"
   ]
  },
  {
   "cell_type": "markdown",
   "metadata": {},
   "source": [
    "### Keyword\n",
    "\n",
    "Cuando llamamos a una función, puede especificar argumentos en la forma `keyword`=`value`. En ese caso, cada `keyword` debe coincidir con un parámetro en la definición de la función de Python. Por ejemplo:"
   ]
  },
  {
   "cell_type": "code",
   "execution_count": 13,
   "metadata": {},
   "outputs": [
    {
     "name": "stdout",
     "output_type": "stream",
     "text": [
      "Precio por 2 manzana es: 2.4\n"
     ]
    }
   ],
   "source": [
    "calcular_precio(cantidad=2, precio=1.2, item=\"manzana\")"
   ]
  },
  {
   "cell_type": "code",
   "execution_count": 14,
   "metadata": {},
   "outputs": [
    {
     "name": "stdout",
     "output_type": "stream",
     "text": [
      "Precio por 2 manzana es: 2.4\n"
     ]
    }
   ],
   "source": [
    "calcular_precio( precio=1.2, item=\"manzana\", cantidad=2)"
   ]
  },
  {
   "cell_type": "markdown",
   "metadata": {},
   "source": [
    "### Default\n",
    "\n",
    "Si un parámetro especificado en una definición de función de Python tiene la forma `name`=`value`, `value` se convierte en un valor predeterminado para ese parámetro.\n",
    "\n",
    "Los parámetros definidos de esta manera se denominan parámetros predeterminados u opcionales. \n",
    "\n",
    "Por ejemplo"
   ]
  },
  {
   "cell_type": "code",
   "execution_count": 15,
   "metadata": {},
   "outputs": [],
   "source": [
    "def calcular_precio(cantidad, precio, item=\"pera\"):\n",
    "    print(f\"Precio por {cantidad} {item}(s) es: {cantidad*precio}\")"
   ]
  },
  {
   "cell_type": "code",
   "execution_count": 16,
   "metadata": {},
   "outputs": [
    {
     "name": "stdout",
     "output_type": "stream",
     "text": [
      "Precio por 1 asdasd(s) es: 1.2\n"
     ]
    }
   ],
   "source": [
    "calcular_precio(1, 1.2, item=\"asdasd\")"
   ]
  },
  {
   "cell_type": "markdown",
   "metadata": {},
   "source": [
    "> **Nota**: Los parametros predeterminados siempre deben estar al últimos de la definición de la función"
   ]
  },
  {
   "cell_type": "code",
   "execution_count": 17,
   "metadata": {},
   "outputs": [
    {
     "ename": "SyntaxError",
     "evalue": "parameter without a default follows parameter with a default (379942823.py, line 1)",
     "output_type": "error",
     "traceback": [
      "  \u001b[36mCell\u001b[39m\u001b[36m \u001b[39m\u001b[32mIn[17]\u001b[39m\u001b[32m, line 1\u001b[39m\n\u001b[31m    \u001b[39m\u001b[31mdef calcular_precio(cantidad=1, precio, item):\u001b[39m\n                                    ^\n\u001b[31mSyntaxError\u001b[39m\u001b[31m:\u001b[39m parameter without a default follows parameter with a default\n"
     ]
    }
   ],
   "source": [
    "def calcular_precio(cantidad=1, precio, item):\n",
    "    print(f\"Precio por {cantidad} {item}(s) es: {cantidad*precio}\")"
   ]
  },
  {
   "cell_type": "markdown",
   "metadata": {},
   "source": [
    "## Cláusula `return`\n",
    "\n",
    "En muchos casos querremos no sólo imprimir en pantalla los resultados de una función, sino que también querremos almacenarlos en una variable para después usarlos, esta es la función de la cláusula `return`\n",
    "\n",
    "\n",
    "Dentro de una función, la cláusula `return` provoca la salida inmediata de la función."
   ]
  },
  {
   "cell_type": "code",
   "execution_count": 18,
   "metadata": {},
   "outputs": [],
   "source": [
    "def fuc(lst):\n",
    "    return lst[-1]"
   ]
  },
  {
   "cell_type": "code",
   "execution_count": 19,
   "metadata": {},
   "outputs": [
    {
     "name": "stdout",
     "output_type": "stream",
     "text": [
      "x = 2\n"
     ]
    }
   ],
   "source": [
    "x = fuc(lst=[1,2])\n",
    "print(f\"x = {x}\")"
   ]
  },
  {
   "cell_type": "markdown",
   "metadata": {},
   "source": [
    "Cuál es la diferencia con respecto a:"
   ]
  },
  {
   "cell_type": "code",
   "execution_count": 20,
   "metadata": {},
   "outputs": [
    {
     "name": "stdout",
     "output_type": "stream",
     "text": [
      "2\n",
      "x = None\n"
     ]
    }
   ],
   "source": [
    "def fuc(lst):\n",
    "    print(lst[-1]) \n",
    "\n",
    "x = fuc(lst=[1,2])\n",
    "\n",
    "print(f\"x = {x}\")"
   ]
  },
  {
   "cell_type": "markdown",
   "metadata": {},
   "source": [
    ">**Nota**: Todas las sentencias posteriores a la cláusula `return` no se ejecutarán\n"
   ]
  },
  {
   "cell_type": "code",
   "execution_count": 21,
   "metadata": {},
   "outputs": [],
   "source": [
    "def func(a, b):\n",
    "    if b==0:\n",
    "        print(\"No se puede dividir entre cero\")\n",
    "        return None\n",
    "    print(\"Dividiendo resultados.\")\n",
    "    return a/b"
   ]
  },
  {
   "cell_type": "code",
   "execution_count": 22,
   "metadata": {},
   "outputs": [
    {
     "name": "stdout",
     "output_type": "stream",
     "text": [
      "Dividiendo resultados.\n"
     ]
    },
    {
     "data": {
      "text/plain": [
       "0.5"
      ]
     },
     "execution_count": 22,
     "metadata": {},
     "output_type": "execute_result"
    }
   ],
   "source": [
    "func(a=1, b=2)"
   ]
  },
  {
   "cell_type": "code",
   "execution_count": 23,
   "metadata": {},
   "outputs": [
    {
     "name": "stdout",
     "output_type": "stream",
     "text": [
      "No se puede dividir entre cero\n"
     ]
    }
   ],
   "source": [
    "func(a=1, b=0)"
   ]
  },
  {
   "cell_type": "markdown",
   "metadata": {},
   "source": [
    "### Tuple Unpacking + return\n",
    "\n",
    "Recordemos que podemos iterar en una lista de tuplas y hacer *Unpacking* de sus valores:"
   ]
  },
  {
   "cell_type": "code",
   "execution_count": 24,
   "metadata": {},
   "outputs": [],
   "source": [
    "frec_cmed = [(0.01,200),(0.15,300),(0.05,400)]"
   ]
  },
  {
   "cell_type": "code",
   "execution_count": 25,
   "metadata": {},
   "outputs": [
    {
     "name": "stdout",
     "output_type": "stream",
     "text": [
      "La frecuencia es 0.01 y el costo medio es 200\n",
      "La frecuencia es 0.15 y el costo medio es 300\n",
      "La frecuencia es 0.05 y el costo medio es 400\n"
     ]
    }
   ],
   "source": [
    "for frec, cmed in frec_cmed:\n",
    "    print(\"La frecuencia es {} y el costo medio es {}\".format(frec,cmed)) "
   ]
  },
  {
   "cell_type": "markdown",
   "metadata": {},
   "source": [
    "De manera muy similar, las funciones pueden regresar tuplas.\n"
   ]
  },
  {
   "cell_type": "code",
   "execution_count": 26,
   "metadata": {},
   "outputs": [],
   "source": [
    "def pr_max(frec_cmed):\n",
    "    # Inicializamos el valor máximo como cero\n",
    "    max_val = 0\n",
    "    # iteramos sobre las posibles frecuencias y costos medios \n",
    "    for frec, cmed in frec_cmed:\n",
    "        # Calcularmos la primas de riesgo\n",
    "        pr = frec * cmed\n",
    "        # Si la prima de riesgo de los valores actuales es mayor que el máximo, los elegimos. \n",
    "        if pr > max_val:\n",
    "            # Asigmanos el nuevo máximo valor\n",
    "            max_val = pr\n",
    "            # guardamos la frecuencia y costo medio que han dado el máximo\n",
    "            frec_max = frec\n",
    "            cmed_max = cmed\n",
    "        else:\n",
    "            pass\n",
    "    return frec_max, cmed_max\n",
    "        "
   ]
  },
  {
   "cell_type": "code",
   "execution_count": 27,
   "metadata": {},
   "outputs": [],
   "source": [
    "frec, cmed = pr_max(frec_cmed)"
   ]
  },
  {
   "cell_type": "code",
   "execution_count": 28,
   "metadata": {},
   "outputs": [
    {
     "data": {
      "text/plain": [
       "0.15"
      ]
     },
     "execution_count": 28,
     "metadata": {},
     "output_type": "execute_result"
    }
   ],
   "source": [
    "frec"
   ]
  },
  {
   "cell_type": "code",
   "execution_count": 29,
   "metadata": {},
   "outputs": [
    {
     "data": {
      "text/plain": [
       "300"
      ]
     },
     "execution_count": 29,
     "metadata": {},
     "output_type": "execute_result"
    }
   ],
   "source": [
    "cmed"
   ]
  },
  {
   "cell_type": "markdown",
   "metadata": {},
   "source": [
    "## Docstring\n",
    "\n",
    "Al momento de diseñar fuciones podemos añadir documentación que nos ayude a comunicar su propósito.\n",
    "\n",
    "Supongamos que tenemos el siguiente ejemplo:"
   ]
  },
  {
   "cell_type": "code",
   "execution_count": 30,
   "metadata": {},
   "outputs": [],
   "source": [
    "def func(a, b):\n",
    "    seq_idx = 0\n",
    "    for value in a:\n",
    "        if seq_idx == len(b):\n",
    "            break\n",
    "        if b[seq_idx] == value:\n",
    "            seq_idx += 1\n",
    "        \n",
    "    return seq_idx == len(b)"
   ]
  },
  {
   "cell_type": "markdown",
   "metadata": {},
   "source": [
    "Es difícil saber qué es exactamente lo que hace la función. Para solucionar esto podemos añadir documentación"
   ]
  },
  {
   "cell_type": "code",
   "execution_count": 31,
   "metadata": {},
   "outputs": [],
   "source": [
    "def es_subsecuencia_valida(a, b):\n",
    "    \"\"\"Determina si el array b es una subsecuencia del array a.\n",
    "    \n",
    "    Una subsecuencia es una lista de números que se encuentran\n",
    "    en el mismo orden que el arreglo original, e.g. [1, 3, 4]\n",
    "    es subsecuecia de [1, 2, 3, 4].\n",
    "        \n",
    "    Args:\n",
    "        a: Array sobre el cual se comprobará si b es subsecuencia. \n",
    "        b: Subsecuencia.\n",
    "\n",
    "    Returns:\n",
    "        bool: True si b es subsecuencia de a.\n",
    "    \n",
    "    \"\"\"\n",
    "    seq_idx = 0\n",
    "    for value in a:\n",
    "        \n",
    "        if seq_idx== len(b):\n",
    "            break\n",
    "        if b[seq_idx] == value:\n",
    "            seq_idx += 1\n",
    "        \n",
    "    return seq_idx == len(b)"
   ]
  },
  {
   "cell_type": "markdown",
   "metadata": {},
   "source": [
    "Existen distintas convenciones para añadir docstrings a las funciones, siendo la de [google](https://sphinxcontrib-napoleon.readthedocs.io/en/latest/example_google.html) mi preferida.\n",
    "\n",
    "## Anotación de funciones\n",
    "\n",
    "A partir de la versión 3.0, Python proporciona una característica adicional para documentar una función llamada anotación de función. Las anotaciones proporcionan una forma de adjuntar metadatos a los parámetros de una función y devolver el valor.\n",
    "\n",
    "Podríamos mejorar la documentación de la anterior función de la siguiente forma.\n"
   ]
  },
  {
   "cell_type": "code",
   "execution_count": 32,
   "metadata": {},
   "outputs": [],
   "source": [
    "from typing import List\n",
    "\n",
    "def es_subsecuencia_valida(a: List[int], b: List[int]) -> bool:\n",
    "    \"\"\"Determina si el array b es una subsecuencia del array a.\n",
    "    \n",
    "    Una subsecuencia es una lista de número que se encuentran\n",
    "    en el mismo orden que el arreglo original, e.g. [1, 3, 4]\n",
    "    es subsecuecia de [1, 2, 3, 4].\n",
    "        \n",
    "    Args:\n",
    "        a: Array sobre el cual se comprobará si b es subsecuencia. \n",
    "        b: Subsecuencia.\n",
    "\n",
    "    Returns:\n",
    "        bool: True si b es subsecuencia de a.\n",
    "    \n",
    "    \"\"\"\n",
    "    seq_idx = 0\n",
    "    for value in a:\n",
    "        \n",
    "        if seq_idx== len(b):\n",
    "            break\n",
    "        if b[i] == value:\n",
    "            seq_idx = +1\n",
    "        \n",
    "    return seq_idx == len(b)"
   ]
  },
  {
   "cell_type": "markdown",
   "metadata": {},
   "source": [
    "### Ejemplo\n",
    "\n",
    "Cuando combinamos distintas funciones sencillas podemos materializar ideas que inicialmente pudieran parecer complejas.\n",
    "\n",
    "Veamos un ejemplo:\n",
    "\n",
    "Realizaremos una versión virtual y libre de estafas del [trile](https://es.wikipedia.org/wiki/Trile).\n",
    "\n",
    "Para lograrlo lo haremos de a poco y resolviendo pequeños retos:\n",
    "\n",
    "1. Revolver el tablero.\n",
    "2. Pedir al usuario que seleccione una posición del tablero.\n",
    "3. verificar si la posición correcta contiene a la bolita. \n",
    "4. Crear una función para unir todas las piezas del juego  \n",
    "\n",
    "#### Revolver el tablero"
   ]
  },
  {
   "cell_type": "code",
   "execution_count": 33,
   "metadata": {},
   "outputs": [],
   "source": [
    "from random import shuffle"
   ]
  },
  {
   "cell_type": "code",
   "execution_count": 34,
   "metadata": {},
   "outputs": [],
   "source": [
    "tablero = [\"\",\"O\",\"\"]"
   ]
  },
  {
   "cell_type": "code",
   "execution_count": 35,
   "metadata": {},
   "outputs": [],
   "source": [
    "def revolver_tablero(tablero: List[str]) -> List[str]:\n",
    "    \"\"\"Ordena de manera aleatoria el tablero.\n",
    "\n",
    "    Args:\n",
    "        tablero: Representación abstracta del tablero de juego\n",
    "\n",
    "    Returns:\n",
    "        List[str]: tablero ordenado de manera aleatoria.\n",
    "    \"\"\"\n",
    "    shuffle(tablero)\n",
    "    return tablero"
   ]
  },
  {
   "cell_type": "code",
   "execution_count": 36,
   "metadata": {},
   "outputs": [
    {
     "data": {
      "text/plain": [
       "['', '', 'O']"
      ]
     },
     "execution_count": 36,
     "metadata": {},
     "output_type": "execute_result"
    }
   ],
   "source": [
    "revolver_tablero(tablero)"
   ]
  },
  {
   "cell_type": "code",
   "execution_count": 37,
   "metadata": {},
   "outputs": [],
   "source": [
    "def adivinar() -> int:\n",
    "    \"\"\"Pide al usuario adivinar la posición del valor O en el tablero.\n",
    "    \n",
    "    Returns:\n",
    "        int: posición seleccionada por el usuario.\n",
    "    \"\"\"\n",
    "    \n",
    "    posicion = \"\"\n",
    "    \n",
    "    while posicion not in [\"0\", \"1\", \"2\"]:\n",
    "        \n",
    "        posicion = input(\"Escoge un número: 0, 1 o 2:   \")\n",
    "    \n",
    "    return int(posicion)        "
   ]
  },
  {
   "cell_type": "code",
   "execution_count": 38,
   "metadata": {},
   "outputs": [
    {
     "name": "stdin",
     "output_type": "stream",
     "text": [
      "Escoge un número: 0, 1 o 2:    \n",
      "Escoge un número: 0, 1 o 2:    \n",
      "Escoge un número: 0, 1 o 2:    0\n"
     ]
    },
    {
     "data": {
      "text/plain": [
       "0"
      ]
     },
     "execution_count": 38,
     "metadata": {},
     "output_type": "execute_result"
    }
   ],
   "source": [
    "adivinar()"
   ]
  },
  {
   "cell_type": "code",
   "execution_count": 39,
   "metadata": {},
   "outputs": [],
   "source": [
    "def verificar(tablero:List[str], posicion: int)-> None:\n",
    "    \"\"\"Verifica si la posición del usuario es la correcta.\n",
    "    Args:\n",
    "        tablero: Representación abstracta del tablero de juego.\n",
    "        posicion: Posición seleccionada por el usuario.\n",
    "\n",
    "    Returns:\n",
    "        None\n",
    "    \"\"\"\n",
    "    if tablero[posicion] == \"O\":\n",
    "        print(\"¡Correcto, has ganado!\", tablero)\n",
    "    else:\n",
    "        print(\"¡Fallaste, has perdido!\", tablero)"
   ]
  },
  {
   "cell_type": "code",
   "execution_count": 40,
   "metadata": {},
   "outputs": [],
   "source": [
    "def main():\n",
    "    \"\"\"Programa principal\"\"\"\n",
    "    \n",
    "    tablero = [\"\",\"O\",\"\"]\n",
    "    tablero = revolver_tablero(tablero)\n",
    "    posicion = adivinar()\n",
    "    verificar(tablero, posicion)\n"
   ]
  },
  {
   "cell_type": "code",
   "execution_count": 41,
   "metadata": {},
   "outputs": [
    {
     "name": "stdin",
     "output_type": "stream",
     "text": [
      "Escoge un número: 0, 1 o 2:    \n",
      "Escoge un número: 0, 1 o 2:    1\n"
     ]
    },
    {
     "name": "stdout",
     "output_type": "stream",
     "text": [
      "¡Fallaste, has perdido! ['O', '', '']\n"
     ]
    }
   ],
   "source": [
    "main()"
   ]
  },
  {
   "cell_type": "markdown",
   "metadata": {},
   "source": [
    "¡Genial! Ahora ya deberías tener un entendimiento básico de funciones en Python"
   ]
  }
 ],
 "metadata": {
  "kernelspec": {
   "display_name": "Python 3 (ipykernel)",
   "language": "python",
   "name": "python3"
  },
  "language_info": {
   "codemirror_mode": {
    "name": "ipython",
    "version": 3
   },
   "file_extension": ".py",
   "mimetype": "text/x-python",
   "name": "python",
   "nbconvert_exporter": "python",
   "pygments_lexer": "ipython3",
   "version": "3.13.7"
  }
 },
 "nbformat": 4,
 "nbformat_minor": 4
}
