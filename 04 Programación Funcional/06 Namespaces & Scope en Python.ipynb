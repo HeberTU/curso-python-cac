{
 "cells": [
  {
   "cell_type": "markdown",
   "metadata": {},
   "source": [
    "# Namespaces & Scope en Python\n",
    "\n",
    "Los objetivos de aprendizaje son:\n",
    "\n",
    "1. Namespaces en Python\n",
    "2. Alcance de variables\n",
    "\n",
    "\n",
    "## Namespaces en Python\n",
    "\n",
    "Un `Namespace` es una colección de nombres definidos junto con información sobre el objeto al que hace referencia cada nombre.\n",
    "\n",
    "\n",
    "Podemos pensar en un `Namespace` como un diccionario en el que las llaves (`keys`) son los nombres de los objetos y los valores `values` son los objetos mismos. \n",
    "\n",
    "\n",
    "En un programa de Python, hay cuatro tipos de `Namespaces`:\n",
    "\n",
    "1. built-in\n",
    "2. Global\n",
    "3. Local\n",
    "4. Enclosing\n",
    "\n",
    "Estos tienen alcances diferentes. A medida que Python ejecuta un programa, crea y elimina `Namespaces`. Por lo general, existirán muchos espacios de nombres en un momento dado.\n",
    "\n",
    "\n",
    "### Built-In Namespace\n",
    "\n",
    "\n",
    "Contiene los nombres de todos los objetos `Built-In` *pre-instalados* de Python.\n",
    "\n",
    "Estos están disponibles en todo momento cuando Python se está ejecutando. \n",
    "\n",
    "El siguiente comando los muestra:"
   ]
  },
  {
   "cell_type": "code",
   "execution_count": null,
   "metadata": {
    "scrolled": true
   },
   "outputs": [],
   "source": [
    "dir(__builtin__)"
   ]
  },
  {
   "cell_type": "markdown",
   "metadata": {},
   "source": [
    "Podemos ver algunos nombres familiares como `int` o `list`.\n",
    "\n",
    "### Global Namespace\n",
    "\n",
    "Contiene cualquier nombre definido en el nivel del programa principal. Python crea el espacio de nombres global cuando se inicia el cuerpo principal del programa, y permanece hasta que finaliza el intérprete.\n"
   ]
  },
  {
   "cell_type": "code",
   "execution_count": null,
   "metadata": {
    "scrolled": true
   },
   "outputs": [],
   "source": [
    "globals()"
   ]
  },
  {
   "cell_type": "code",
   "execution_count": null,
   "metadata": {},
   "outputs": [],
   "source": [
    "globals()['x']"
   ]
  },
  {
   "cell_type": "code",
   "execution_count": null,
   "metadata": {},
   "outputs": [],
   "source": [
    "x = 10\n",
    "y=\"hola\""
   ]
  },
  {
   "cell_type": "code",
   "execution_count": null,
   "metadata": {},
   "outputs": [],
   "source": [
    "globals()"
   ]
  },
  {
   "cell_type": "code",
   "execution_count": null,
   "metadata": {},
   "outputs": [],
   "source": [
    "globals()['x']"
   ]
  },
  {
   "cell_type": "markdown",
   "metadata": {},
   "source": [
    "## Local Namespaces\n",
    "\n",
    "El intérprete crea un nuevo `Namespace` cada vez que se ejecuta una función. Ese `Namespace` es local para la función y permanece hasta que la función finaliza."
   ]
  },
  {
   "cell_type": "code",
   "execution_count": null,
   "metadata": {},
   "outputs": [],
   "source": [
    "def func():\n",
    "    new_var=''"
   ]
  },
  {
   "cell_type": "code",
   "execution_count": null,
   "metadata": {},
   "outputs": [],
   "source": [
    "globals()['func']"
   ]
  },
  {
   "cell_type": "code",
   "execution_count": null,
   "metadata": {},
   "outputs": [],
   "source": [
    "func()\n",
    "globals()['new_var']"
   ]
  },
  {
   "cell_type": "markdown",
   "metadata": {},
   "source": [
    "Sólo podemos acceder al local `Namespace` de una función dentro de su ejecución, por ejemplo:"
   ]
  },
  {
   "cell_type": "code",
   "execution_count": null,
   "metadata": {},
   "outputs": [],
   "source": [
    "def func():\n",
    "    new_var=''\n",
    "    print(locals())\n",
    "func()"
   ]
  },
  {
   "cell_type": "markdown",
   "metadata": {},
   "source": [
    "### Enclosing Namespaces\n",
    "\n",
    "Cuando una función se define dentro de otra función, se crea un `Enclosing Namespaces`. Su ciclo de vida es el mismo que el `Local Namespaces`que lo contiene"
   ]
  },
  {
   "cell_type": "code",
   "execution_count": null,
   "metadata": {},
   "outputs": [],
   "source": [
    "def func():\n",
    "    \n",
    "    new_var = ''\n",
    "    print('Local Namespace:', locals())\n",
    "    \n",
    "    def func_2():\n",
    "        new_var_2 = ''\n",
    "        print('Enclosing Namespace:', locals())\n",
    "        \n",
    "    func_2()\n"
   ]
  },
  {
   "cell_type": "code",
   "execution_count": null,
   "metadata": {},
   "outputs": [],
   "source": [
    "func()"
   ]
  },
  {
   "cell_type": "markdown",
   "metadata": {},
   "source": [
    "## Alcance de variables\n",
    "\n",
    "La existencia de múltiples `Namespace` significa que varias instancias de un mismo nombre pueden existir simultáneamente, siempre que cada instancia esté en un `Namespace` diferente.\n",
    "\n",
    "¿Cómo sabe Python cuál escoger?\n",
    "\n",
    "La respuesta está en el concepto de alcance. El alcance de una variable es la región de un programa en la que su referencia tiene significado.\n",
    "\n",
    "El intérprete determina esto durante el tiempo de ejecución en función de:\n",
    "\n",
    "- Dónde se produce la definición del nombre.\n",
    "- En qué parte del código se hace referencia al nombre."
   ]
  },
  {
   "cell_type": "code",
   "execution_count": null,
   "metadata": {},
   "outputs": [],
   "source": [
    "x = 'x global'\n",
    "def func():\n",
    "    x=\"x local\"\n",
    "    print(x)\n",
    "\n",
    "func()\n",
    "\n",
    "print(x)"
   ]
  },
  {
   "cell_type": "code",
   "execution_count": null,
   "metadata": {},
   "outputs": [],
   "source": [
    "def func():\n",
    "    x=\"x local\"\n",
    "    \n",
    "    def func_2():\n",
    "        print(x)\n",
    "    \n",
    "    func_2()\n"
   ]
  },
  {
   "cell_type": "code",
   "execution_count": null,
   "metadata": {},
   "outputs": [],
   "source": [
    "func()"
   ]
  },
  {
   "cell_type": "markdown",
   "metadata": {},
   "source": [
    "Para resolver el valor de una variable se ejecuta la regla LEGB, es decir, se busca la referencia en el siguiente orden:\n",
    "\n",
    "\n",
    "- **Local**: si hace referencia a x dentro de una función, entonces el intérprete primero busca en local.\n",
    "<br>\n",
    "\n",
    "- **Enclosing**: Si x no está en el ámbito local pero aparece en una función(`func_2`) que reside dentro de otra función (`func`), entonces el intérprete busca en el ámbito de la función (`func`) que la contiene.\n",
    "<br>\n",
    "- **Global**: si ninguna de las búsquedas anteriores es fructífera, entonces el intérprete busca en el ámbito global.\n",
    "<br>\n",
    "- **Built-in**: si no puede encontrar x en ningún otro lugar, entonces el intérprete acá."
   ]
  }
 ],
 "metadata": {
  "kernelspec": {
   "display_name": "Python 3 (ipykernel)",
   "language": "python",
   "name": "python3"
  },
  "language_info": {
   "codemirror_mode": {
    "name": "ipython",
    "version": 3
   },
   "file_extension": ".py",
   "mimetype": "text/x-python",
   "name": "python",
   "nbconvert_exporter": "python",
   "pygments_lexer": "ipython3",
   "version": "3.13.7"
  }
 },
 "nbformat": 4,
 "nbformat_minor": 4
}
